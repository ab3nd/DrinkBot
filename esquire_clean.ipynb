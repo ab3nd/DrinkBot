{
 "cells": [
  {
   "cell_type": "markdown",
   "metadata": {},
   "source": [
    "Being a little silly, I've decided to parse the esquire stuff a different way. Since it already uses a pretty common set of units, I'll just use them to split the strings."
   ]
  },
  {
   "cell_type": "code",
   "execution_count": 15,
   "metadata": {},
   "outputs": [],
   "source": [
    "import re\n",
    "import nltk\n",
    "import json\n",
    "import copy\n",
    "from nltk.stem.wordnet import WordNetLemmatizer\n",
    "lemma = WordNetLemmatizer()\n",
    "\n",
    "# Runs through an entire file and applies a filter to each ingredient\n",
    "# Filters return the new JSON representation for the ingredient, or \n",
    "# None if they decided to delete the ingredient. \n",
    "def ingred_processor(infile, ingredient_filter, **kwargs):\n",
    "    processed = []\n",
    "    with open(infile, 'r') as recipes:\n",
    "        recipe_data = json.load(recipes)\n",
    "        for r in recipe_data:\n",
    "            # Skip anything that doesn't have ingredients\n",
    "            if \"ingredients\" not in r.keys():\n",
    "                continue\n",
    "            r_clean = copy.deepcopy(r)\n",
    "            r_clean[\"ingredients\"] = []\n",
    "            for i in r['ingredients']:\n",
    "                clean_i = ingredient_filter(i, **kwargs)\n",
    "                if clean_i is not None:\n",
    "                    # This is how we handle deletion of an ingredient\n",
    "                    r_clean[\"ingredients\"].append(clean_i)\n",
    "            processed.append(r_clean)\n",
    "    return processed"
   ]
  },
  {
   "cell_type": "code",
   "execution_count": 23,
   "metadata": {},
   "outputs": [],
   "source": [
    "def ounce_splitter(i):\n",
    "    if type(i) is str:\n",
    "        tok = i.split()\n",
    "        try:\n",
    "            idx = tok.index(\"oz.\")\n",
    "            amount = \" \".join(tok[:idx])\n",
    "            # Try for mixed fractions like 1 1/2\n",
    "            frac = re.match(\"([0-9]+) ([0-9]+)/([0-9]+)\", amount)\n",
    "            if frac:\n",
    "                amount = float(frac[1]) + float(frac[2])/float(frac[3])\n",
    "            else:\n",
    "                # Try for proper fractions like 3/4\n",
    "                frac = re.match(\"([0-9]+)/([0-9]+)\", amount)\n",
    "                if frac:\n",
    "                    amount = float(frac[1])/float(frac[2])\n",
    "                else:\n",
    "                    # Give up and just convert it to a float\n",
    "                    amount = float(amount)\n",
    "            ingredient = \" \".join(tok[idx+1:])\n",
    "            unit = \"ounce\"\n",
    "            return {\"ingred_amount\": amount, \"ingred_unit\": unit, \"ingred_name\": ingredient}\n",
    "        except Exception as e:\n",
    "            return i\n",
    "    return i\n",
    "        \n",
    "data = ingred_processor(\"./data/raw/esquire.json\", ounce_splitter)\n",
    "\n",
    "with open('./data/cleaned/esquire.json', 'w') as outfile:\n",
    "    json.dump(data, outfile, indent=4)"
   ]
  },
  {
   "cell_type": "code",
   "execution_count": 30,
   "metadata": {},
   "outputs": [],
   "source": [
    "def splitter(i, **kwargs):\n",
    "    if type(i) is str:\n",
    "        tok = i.split()\n",
    "        try:\n",
    "            idx = tok.index(kwargs['target'])\n",
    "            amount = \" \".join(tok[:idx])\n",
    "            # Try for mixed fractions like 1 1/2\n",
    "            frac = re.match(\"([0-9]+) ([0-9]+)/([0-9]+)\", amount)\n",
    "            if frac:\n",
    "                amount = float(frac[1]) + float(frac[2])/float(frac[3])\n",
    "            else:\n",
    "                # Try for proper fractions like 3/4\n",
    "                frac = re.match(\"([0-9]+)/([0-9]+)\", amount)\n",
    "                if frac:\n",
    "                    amount = float(frac[1])/float(frac[2])\n",
    "                else:\n",
    "                    # Give up and just convert it to a float\n",
    "                    amount = float(amount)\n",
    "            ingredient = \" \".join(tok[idx+1:])\n",
    "            unit = kwargs['split']\n",
    "            return {\"ingred_amount\": amount, \"ingred_unit\": unit, \"ingred_name\": ingredient}\n",
    "        except Exception as e:\n",
    "            return i\n",
    "    return i\n",
    "        \n",
    "data = ingred_processor(\"./data/cleaned/esquire.json\", splitter, target = \"pinch\", split=\"pinch\")\n",
    "with open('./data/cleaned/esquire.json', 'w') as outfile:\n",
    "    json.dump(data, outfile, indent=4)\n"
   ]
  }
 ],
 "metadata": {
  "kernelspec": {
   "display_name": "Python 3",
   "language": "python",
   "name": "python3"
  },
  "language_info": {
   "codemirror_mode": {
    "name": "ipython",
    "version": 3
   },
   "file_extension": ".py",
   "mimetype": "text/x-python",
   "name": "python",
   "nbconvert_exporter": "python",
   "pygments_lexer": "ipython3",
   "version": "3.8.10"
  }
 },
 "nbformat": 4,
 "nbformat_minor": 2
}
