{
 "cells": [
  {
   "cell_type": "code",
   "execution_count": null,
   "metadata": {},
   "outputs": [],
   "source": [
    "import re\n",
    "import nltk\n",
    "import json\n",
    "import copy\n",
    "from nltk.stem.wordnet import WordNetLemmatizer\n",
    "lemma = WordNetLemmatizer()\n",
    "\n",
    "# Runs through an entire file and applies a filter to each ingredient\n",
    "# Filters return the new JSON representation for the ingredient, or \n",
    "# None if they decided to delete the ingredient. \n",
    "def ingred_processor(infile, ingredient_filter):\n",
    "    processed = []\n",
    "    with open(infile, 'r') as recipes:\n",
    "        recipe_data = json.load(recipes)\n",
    "        for r in recipe_data:\n",
    "            # Skip anything that doesn't have ingredients\n",
    "            if \"ingredients\" not in r.keys():\n",
    "                continue\n",
    "            r_clean = copy.deepcopy(r)\n",
    "            r_clean[\"ingredients\"] = []\n",
    "            for i in r['ingredients']:\n",
    "                clean_i = ingredient_filter(i)\n",
    "                if clean_i is not None:\n",
    "                    # This is how we handle deletion of an ingredient\n",
    "                    r_clean[\"ingredients\"].append(clean_i)\n",
    "            processed.append(r_clean)\n",
    "    return processed"
   ]
  }
 ],
 "metadata": {
  "kernelspec": {
   "display_name": "Python 3",
   "language": "python",
   "name": "python3"
  },
  "language_info": {
   "codemirror_mode": {
    "name": "ipython",
    "version": 3
   },
   "file_extension": ".py",
   "mimetype": "text/x-python",
   "name": "python",
   "nbconvert_exporter": "python",
   "pygments_lexer": "ipython3",
   "version": "3.8.10"
  }
 },
 "nbformat": 4,
 "nbformat_minor": 2
}
