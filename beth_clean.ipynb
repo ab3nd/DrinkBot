{
 "cells": [
  {
   "cell_type": "markdown",
   "metadata": {},
   "source": [
    "This is a notebook that has a cleaned-up version of cleaning up the units split in a cocktail data set. The data sets are JSON, and each cocktail has a name, a set of ingredients, and a set of instructions. The ingredients each have a name, an amount, and an ingredient. The instructions are just a list of strings."
   ]
  },
  {
   "cell_type": "code",
   "execution_count": 38,
   "metadata": {},
   "outputs": [],
   "source": [
    "import re\n",
    "import nltk\n",
    "import json\n",
    "import copy\n",
    "from nltk.stem.wordnet import WordNetLemmatizer\n",
    "lemma = WordNetLemmatizer()\n",
    "\n",
    "# Convenience function for keeping a count of strings, lemmatized\n",
    "# to be the base (so teaspoons becomes teaspoon)\n",
    "def update_lemma(d, k):\n",
    "    k = k.strip(',')\n",
    "    k = lemma.lemmatize(k)\n",
    "    if k in d.keys():\n",
    "        d[k] += 1\n",
    "    else:\n",
    "        d[k] = 1\n",
    "\n",
    "# Runs through an entire file and applies a filter to each ingredient\n",
    "# Filters return the new JSON representation for the ingredient, or \n",
    "# None if they decided to delete the ingredient. \n",
    "def recipe_processor(infile, ingredient_filter):\n",
    "    processed = []\n",
    "    with open(infile, 'r') as recipes:\n",
    "        recipe_data = json.load(recipes)\n",
    "        for r in recipe_data:\n",
    "            # Skip anything that doesn't have ingredients\n",
    "            if \"ingredients\" not in r.keys():\n",
    "                continue\n",
    "            r_clean = copy.deepcopy(r)\n",
    "            r_clean[\"ingredients\"] = []\n",
    "            for i in r['ingredients']:\n",
    "                clean_i = ingredient_filter(i)\n",
    "                if clean_i is not None:\n",
    "                    # This is how we handle deletion of an ingredient\n",
    "                    r_clean[\"ingredients\"].append(clean_i)\n",
    "            processed.append(r_clean)\n",
    "    return processed"
   ]
  },
  {
   "cell_type": "markdown",
   "metadata": {},
   "source": [
    "It's probably better to parse thing that look like units into fractional representation first, and then handle unit detection. The regexes in the previous implementation of `unit_finder()` were intended to do that, but missed two instances of '1/2'. \n",
    "\n",
    "First, let's look at the first two units of the ingredients. There will be a lot that are a number followed by a fraction, a lot that are a number followed by something else, and a few that are a number followed by \"to\"."
   ]
  },
  {
   "cell_type": "code",
   "execution_count": 32,
   "metadata": {},
   "outputs": [],
   "source": [
    "# Given a string instruction that starts with a fraction, \n",
    "# Convert that fraction into a decimal value and replace the instruction. \n",
    "def fraction_handler(i):\n",
    "    if type(i) is str:\n",
    "        frac_match = re.match(\"([0-9]+) ([0-9]+)/([0-9]+)\", i)\n",
    "        if frac_match:\n",
    "            amount = int(frac_match[1]) + float(frac_match[2])/float(frac_match[3])\n",
    "            return {'ingred_amount': amount, 'ingred_name':i[len(frac_match[0])+1:]}\n",
    "    return i\n",
    "            \n",
    "fracs = recipe_processor(\"./data/raw/beth_skwarecki_cocktails.json\", fraction_handler)\n",
    "\n",
    "with open (\"./data/cleaned/beth_skwarecki_cocktails.json\", 'w') as outfile:\n",
    "    json.dump(fracs, outfile, indent=4)"
   ]
  },
  {
   "cell_type": "code",
   "execution_count": 33,
   "metadata": {},
   "outputs": [],
   "source": [
    "# For fractions with no integer part\n",
    "def fraction_handler(i):\n",
    "    if type(i) is str:\n",
    "        frac_match = re.match(\"([0-9]+)/([0-9]+)\", i)\n",
    "        if frac_match:\n",
    "            amount = float(frac_match[1])/float(frac_match[2])\n",
    "            return {'ingred_amount': amount, 'ingred_name':i[len(frac_match[0])+1:]}\n",
    "    return i\n",
    "            \n",
    "fracs = recipe_processor(\"./data/cleaned/beth_skwarecki_cocktails.json\", fraction_handler)\n",
    "\n",
    "with open (\"./data/cleaned/beth_skwarecki_cocktails.json\", 'w') as outfile:\n",
    "    json.dump(fracs, outfile, indent=4)"
   ]
  },
  {
   "cell_type": "code",
   "execution_count": 34,
   "metadata": {},
   "outputs": [],
   "source": [
    "# And then whole numbers, but this does miss instances of \"to\"\n",
    "def int_handler(i):\n",
    "    if type(i) is str:\n",
    "        frac_match = re.match(\"([0-9]+) \", i)\n",
    "        if frac_match:\n",
    "            amount = float(frac_match[1])\n",
    "            return {'ingred_amount': amount, 'ingred_name':i[len(frac_match[0]):]}\n",
    "    return i\n",
    "            \n",
    "fracs = recipe_processor(\"./data/cleaned/beth_skwarecki_cocktails.json\", int_handler)\n",
    "\n",
    "with open (\"./data/cleaned/beth_skwarecki_cocktails.json\", 'w') as outfile:\n",
    "    json.dump(fracs, outfile, indent=4)"
   ]
  },
  {
   "cell_type": "markdown",
   "metadata": {},
   "source": [
    "The file now has ingredients broken into amounts and names. The names could include amounts, so first lets handle all the ingredients that have remained as strings. "
   ]
  },
  {
   "cell_type": "code",
   "execution_count": 41,
   "metadata": {},
   "outputs": [],
   "source": [
    "# Get a count of everything after a number, which could be an ingredient\n",
    "units = {}\n",
    "\n",
    "def unit_finder(i):\n",
    "    if type(i) is str:\n",
    "        tok = i.split()\n",
    "        update_lemma(units, tok[0].lower())\n",
    "    # Doesn't actually do anything to the recipe\n",
    "    return i"
   ]
  },
  {
   "cell_type": "code",
   "execution_count": 42,
   "metadata": {},
   "outputs": [
    {
     "name": "stdout",
     "output_type": "stream",
     "text": [
      "There are 104 things that could be units\n",
      "[['dash', 154], ['splash', 75], ['juice', 71], ['club', 48], ['chilled', 41], ['champagne', 25], ['one', 21], ['sugar', 19], ['ginger', 18], ['orange', 9], ['salt', 9], ['lime', 7], ['hot', 7], ['pinch', 6], ['lemon-lime', 4], ['iced', 4], ['tonic', 4], ['drop', 3], ['mint', 3], ['sprinkle', 3], ['tabasco', 3], ['coffee', 3], ['squeeze', 3], ['cola', 3], ['cold', 3], ['ice', 2], ['crushed', 2], ['(this', 2], ['sparkling', 2], ['powdered', 2], ['several', 2], ['grapefruit', 2], ['raspberry', 2], ['peach', 2], ['cranberry', 2], ['lemon', 2], ['grenadine', 2], ['note:', 2], ['making', 2], ['lemonade', 2], ['dab', 1], ['tomato', 1], ['ounce', 1], ['whipping', 1], ['apple', 1], ['with', 1], ['build', 1], ['bunch', 1], ['12-ounce', 1], ['bloody', 1], ['below.)', 1], ['peel', 1], ['thin', 1], ['centrate', 1], ['thawed', 1], ['slice', 1], ['apple;', 1], ['milk', 1], ['half', 1], ['burgundy', 1], ['claret', 1], ['pineapple-grapefruit', 1], ['fresh', 1], ['cucumber', 1], ['spiraled', 1], ['dry', 1], ['scotch', 1], ['curacao', 1], ['brut', 1], ['shaved', 1], ['rocks.)', 1], ['six', 1], ['cocoa', 1], ['southern', 1], ['pour', 1], ['brandy', 1], ['created', 1], ['ark.', 1], ['try', 1], ['coconut', 1], ['three', 1], ['well', 1], ['kudos', 1], ['pineapple', 1], ['make', 1], ['irish', 1], ['while', 1], ['cherry', 1], ['careful', 1], ['on', 1], ['square', 1], ['water', 1], [\"it's\", 1], ['rind', 1], ['blue', 1], ['kaboom!', 1], ['esmeralda.', 1], ['pernod', 1], ['celery', 1], ['3-5', 1], ['almost', 1], ['clamato', 1], ['seltzer', 1], ['cajun', 1]]\n"
     ]
    }
   ],
   "source": [
    "_ = recipe_processor(\"./data/cleaned/beth_skwarecki_cocktails.json\", unit_finder)\n",
    "print(f\"There are {len(units.keys())} things that could be units\") \n",
    "print(sorted([[k, v] for k, v in units.items()], key = lambda x: x[1], reverse=True))"
   ]
  },
  {
   "cell_type": "markdown",
   "metadata": {},
   "source": [
    "There are a lot of things, but lets see what they are in the actual file. \"Dash\" and \"splash\" are both singular dashes or splashes of things, so those can have the unit set to dash or splash, and the amount set to 1. I have the feeling that a dash is bigger than a splash, but this is purely vibes. \"Drop\" is, of course, smaller than both, and is a drop. \n",
    "\n",
    "\"Juice\" is lines of the form \"Juice of N fruits\", which is fairly annoying because fruits are not standardized. I'll write a little lookup table to deal with the amount and the fruit, it's basically multiplying the count of fruits by the expected juice in the fruit, which you can look up online. \n",
    "\n",
    "\"Club\" is club soda. This one is tricky, because it's \"to fill\", which depends on the amount of other stuff and the glassware you use. Again, there are heuristic ways to handle this (glass volume - ingredients) = \"to fill\", so I probably just need a utility function that can do the conversion. Interestingly, Collins and rocks glasses are the same volume, but, like Bert and Ernie, one is taller and thin, the other is shorter and round. \n",
    "\n",
    "\"One\" is in cases of \"One part ingredient\", which will get its own fix. "
   ]
  },
  {
   "cell_type": "code",
   "execution_count": 43,
   "metadata": {},
   "outputs": [],
   "source": [
    "one_units = ['dash','splash','pinch', 'drop', 'sprinkle', 'squeeze', 'dab']\n",
    "\n",
    "def one_unitize(i):\n",
    "    if type(i) is str:\n",
    "        tok = i.split()\n",
    "        unit = lemma.lemmatize(tok[0].lower())\n",
    "        if unit in one_units:\n",
    "            return {'ingred_amount': 1, 'ingred_name': \" \".join(tok[1:]), 'ingred_unit':unit}\n",
    "    return i\n",
    "\n",
    "one_unitized = recipe_processor(\"./data/cleaned/beth_skwarecki_cocktails.json\", one_unitize)\n",
    "with open (\"./data/cleaned/beth_skwarecki_cocktails.json\", 'w') as outfile:\n",
    "    json.dump(one_unitized, outfile, indent=4)"
   ]
  },
  {
   "cell_type": "markdown",
   "metadata": {},
   "source": [
    "At this point, we have a lot of the amounts converted to numbers, but a bunch of the ingredients don't have their units seperated from the ingredient itself, so lets look at what the first word in the ingredients that have numbers, but don't have units. "
   ]
  },
  {
   "cell_type": "code",
   "execution_count": 44,
   "metadata": {},
   "outputs": [
    {
     "name": "stdout",
     "output_type": "stream",
     "text": [
      "There are 73 things that could be units\n",
      "[['ounce', 2498], ['teaspoon', 313], ['dash', 86], ['tablespoon', 60], ['egg', 42], ['cup', 35], ['to', 24], ['scoop', 19], ['whole', 10], ['sugar', 10], ['mint', 9], ['or', 9], ['small', 7], ['part', 7], ['slice', 6], ['drop', 6], ['banana', 6], ['ice', 5], ['splash', 5], ['cinnamon', 5], ['lemon', 4], ['peach', 4], ['bottle', 4], ['ripe', 3], ['quart', 3], ['fifth', 3], ['lime', 3], ['fresh', 3], ['dry', 2], ['medium', 2], ['red', 2], ['chilled', 2], ['large', 2], ['brandied', 2], ['of', 2], ['sliced', 2], ['pint', 2], ['crushed', 2], ['can', 2], ['ripened', 1], ['peeled', 1], ['liter', 1], ['46-ounce', 1], ['5-ounce', 1], ['blue', 1], ['champagne', 1], ['sweet', 1], ['unsweetened', 1], ['sprig', 1], ['pear', 1], ['pitted', 1], ['almond', 1], ['paper-thin', 1], ['raspberry', 1], ['Milky', 1], ['Starlight', 1], ['Campari', 1], ['cherry', 1], ['rum-soaked', 1], ['littleneck', 1], ['raisin', 1], ['peanut', 1], ['wineglass', 1], ['thin', 1], ['lump', 1], ['gallon', 1], ['.Garnish', 1], ['peel', 1], ['curacao', 1], ['Garnish', 1], ['inch', 1], ['pound', 1], ['grapefruit', 1]]\n"
     ]
    }
   ],
   "source": [
    "units = {}\n",
    "def count_units(i):\n",
    "    if type(i) is not str:\n",
    "        if \"ingred_unit\" not in i.keys():\n",
    "            update_lemma(units, i['ingred_name'].split()[0])\n",
    "\n",
    "_ = recipe_processor(\"./data/cleaned/beth_skwarecki_cocktails.json\", count_units)\n",
    "print(f\"There are {len(units.keys())} things that could be units\") \n",
    "print(sorted([[k, v] for k, v in units.items()], key = lambda x: x[1], reverse=True))"
   ]
  },
  {
   "cell_type": "markdown",
   "metadata": {},
   "source": [
    "The ones that are actually units are \n",
    "```python\n",
    "['ounce', 'teaspoon', 'dash', 'tablespoon', 'cup', 'scoop', 'part', 'drop', 'splash', 'bottle', 'quart', 'fifth', 'pint', 'can', 'liter', 'sprig', 'pound']\n",
    "```\n",
    "\n",
    "\"To\" is a special case that I'll address later."
   ]
  },
  {
   "cell_type": "code",
   "execution_count": null,
   "metadata": {},
   "outputs": [],
   "source": [
    "units = ['ounce', 'teaspoon', 'dash', 'tablespoon', 'cup', 'scoop', 'part', 'drop', 'splash', 'bottle', 'quart', 'fifth', 'pint', 'can', 'liter', 'sprig', 'pound']\n",
    "\n",
    "def replace_units(i):\n",
    "    if type(i) is not str:\n",
    "        if \"ingred_unit\" not in i.keys():\n",
    "            p_unit = i['ingred_name'].split()[0]\n",
    "            l_unit = lemma.lemmatize(p_unit.lower())\n",
    "            if l_unit in units:\n",
    "                i[\"ingred_unit\"] = l_unit\n",
    "                i[\"ingred_name\"] = i[\"ingred_name\"].replace(p_unit, '', 1)\n",
    "    return i\n",
    "\n",
    "unitized = recipe_processor(\"./data/cleaned/beth_skwarecki_cocktails.json\", replace_units)\n",
    "with open (\"./data/cleaned/beth_skwarecki_cocktails.json\", 'w') as outfile:\n",
    "    json.dump(unitized, outfile, indent=4)"
   ]
  },
  {
   "cell_type": "code",
   "execution_count": 46,
   "metadata": {},
   "outputs": [
    {
     "name": "stdout",
     "output_type": "stream",
     "text": [
      "There are 56 things that could be units\n",
      "[['egg', 42], ['to', 24], ['whole', 10], ['sugar', 10], ['mint', 9], ['or', 9], ['small', 7], ['slice', 6], ['banana', 6], ['ice', 5], ['cinnamon', 5], ['lemon', 4], ['peach', 4], ['ripe', 3], ['lime', 3], ['fresh', 3], ['dry', 2], ['medium', 2], ['red', 2], ['chilled', 2], ['large', 2], ['brandied', 2], ['of', 2], ['sliced', 2], ['crushed', 2], ['ripened', 1], ['peeled', 1], ['46-ounce', 1], ['5-ounce', 1], ['blue', 1], ['champagne', 1], ['sweet', 1], ['unsweetened', 1], ['pear', 1], ['pitted', 1], ['almond', 1], ['paper-thin', 1], ['raspberry', 1], ['Milky', 1], ['Starlight', 1], ['Campari', 1], ['cherry', 1], ['rum-soaked', 1], ['littleneck', 1], ['raisin', 1], ['peanut', 1], ['wineglass', 1], ['thin', 1], ['lump', 1], ['gallon', 1], ['.Garnish', 1], ['peel', 1], ['curacao', 1], ['Garnish', 1], ['inch', 1], ['grapefruit', 1]]\n"
     ]
    }
   ],
   "source": [
    "units = {}\n",
    "def count_units(i):\n",
    "    if type(i) is not str:\n",
    "        if \"ingred_unit\" not in i.keys():\n",
    "            update_lemma(units, i['ingred_name'].split()[0])\n",
    "\n",
    "_ = recipe_processor(\"./data/cleaned/beth_skwarecki_cocktails.json\", count_units)\n",
    "print(f\"There are {len(units.keys())} things that could be units\") \n",
    "print(sorted([[k, v] for k, v in units.items()], key = lambda x: x[1], reverse=True))"
   ]
  },
  {
   "cell_type": "markdown",
   "metadata": {},
   "source": [
    "Ok, now let's rerun that count of things that could be units, and look for the other cases:\n",
    "- \"To\", as in \"to N\", which is to say, a case where there was some variation. I'm content to drop this, because it is usually \"1 to 2 dashes\", and if you want more of it, you can know to add more dashes. \n",
    "- \"Or\", as in \"or N\", but this is basically the same as the previous case\n",
    "- \"Of\", as in \"of ingredient\". \n",
    "\n",
    "These are all simple to find/replace with a text editor, so I didn't bother doing anything clever to them. "
   ]
  },
  {
   "cell_type": "code",
   "execution_count": 71,
   "metadata": {},
   "outputs": [
    {
     "name": "stdout",
     "output_type": "stream",
     "text": [
      "[['Club soda', 44], ['Chilled champagne', 33], ['Champagne', 25], ['Ginger ale', 17], ['Sugar', 16], ['Orange juice', 6], ['Hot coffee', 6], ['Salt', 5], ['Lime wedge', 4], ['Lemon-lime soda', 4], ['Tonic water', 4], ['Salt and pepper to taste', 3], ['Sugar to taste', 3], ['Iced club soda', 3], ['Chilled brut champagne', 3], ['Orange peel', 3], ['Coffee', 3], ['Crushed ice', 2], ['Mint sprigs', 2], ['Grapefruit juice', 2], ['Club Soda', 2], ['Lime slice', 2], ['Peach slice', 2], ['Cola soda', 2], ['Cranberry juice', 2], ['Lemon slice', 2], ['Grenadine', 2], ['Note: Keep all ingredients refrigerated in advance of', 2], ['making this drink.', 2], ['Lemonade', 2], ['Cold club soda', 2], ['Ice cubes to fill blender', 1], ['Tomato juice', 1], ['(This drink can be made frothier by adding 1 1/2', 1], ['ounces heavy whipping cream. If adding heavy', 1], ['whipping cream, use a goblet as glassware.)', 1], ['Apple juice', 1], ['with this tangy one.', 1], ['Build in a collins glass with ice.', 1], ['Bunch Brunch Punch.', 1], ['Sparkling wine', 1], ['12-ounce can frozen lemonade concentrate', 1], ['Bloody Mary mix (store-bought or freshly mixed; see', 1], ['below.)', 1], ['Tabasco sauce to taste (for heat)', 1], ['Salt to taste', 1], ['Peel of two lemons', 1], ['Thin slices of tangerine', 1], ['Powdered sugar', 1], ['Chilled club soda', 1], ['centrate, thawed', 1], ['thawed', 1], ['Club soda (optional)', 1], ['Slice of vodka-soaked orange; cucumber; lemon;', 1], ['apple; a strawberry', 1], ['Several pieces peeled ripe nectarine', 1], ['Milk or cream', 1], ['Several dashes of lime juice', 1], ['Half of an egg white', 1], ['Burgundy', 1], ['Ginger beer', 1], ['Claret', 1], ['Pineapple-grapefruit juice', 1], ['Fresh peaches', 1], ['Iced brut champagne', 1], ['Cucumber peel', 1], ['Spiraled orange peel', 1], ['Raspberry sherbet', 1], ['Chilled pink sparkling wine', 1], ['Mint sprig', 1], ['juice in a champagne flute.', 1], ['Raspberries', 1], ['Dry vermouth to taste', 1], ['Scotch', 1], ['Juice from whole lime', 1], ['Curacao', 1], ['Brut champagne', 1], ['Shaved white chocolate', 1], ['(This drink may also be stirred and served on the', 1], ['rocks.)', 1], ['Six drops orange bitters', 1], ['Cocoa powder', 1], ['Powdered cocoa', 1], ['Southern Comfort', 1], ['Pour ouzo and anisette into a brandy snifter.', 1], ['Brandy', 1], [\"Created by Stephanie Caruthers, Trio's, Little Rock,\", 1], ['Ark.', 1], ['Try one and see.', 1], ['Coconut shavings', 1], ['Three peanuts', 1], [\"Well worth the bartender's raised eyebrow.\", 1], ['Kudos to this drink for telling it like it is.', 1], ['Pineapple juice', 1], ['Make it a double!', 1], ['Irish cream liqueur', 1], ['Tabasco sauce', 1], [\"While you're up, get me another Continental.\", 1], ['Juice 1/2 lemon', 1], ['Cherry', 1], ['Careful not to burn up on re-entry.', 1], ['On your mark, get set... Jet!', 1], ['Square of butter', 1], ['Water, boiling', 1], ['Hot chocolate', 1], ['Ice block', 1], [\"it's cold outside, but we've got our love to keep us warm.\", 1], ['Rind of 2 oranges', 1], ['Blue curacao', 1], ['Chilled cola', 1], ['Kaboom!', 1], ['Esmeralda.', 1], ['Pernod', 1], ['Club soda or ginger ale', 1], ['Celery salt to taste', 1], ['Chilled lemon-lime soda', 1], ['Juice from three lime wedges', 1], ['3-5 drops grenadine syrup', 1], ['Juice from 1/2 lime', 1], ['Chilled sparkling cider', 1], ['Tabasco sauce to taste', 1], ['almost filled with ice cubes.', 1], ['Sparkling water', 1], ['Clamato juice', 1], ['Cold milk', 1], ['Seltzer', 1], ['Lime juice', 1], ['Cajun spices', 1], ['Cola', 1]]\n"
     ]
    }
   ],
   "source": [
    "units = {}\n",
    "\n",
    "def update(d, k):\n",
    "    if k in d.keys():\n",
    "        d[k] += 1\n",
    "    else:\n",
    "        d[k] = 1\n",
    "\n",
    "def remaining_str(i):\n",
    "    if type(i) is str:\n",
    "        update(units, i)\n",
    "    return i\n",
    "\n",
    "_ = recipe_processor(\"./data/cleaned/beth_skwarecki_cocktails.json\", remaining_str)\n",
    "print(sorted([[k, v] for k, v in units.items()], key = lambda x: x[1], reverse=True))"
   ]
  },
  {
   "cell_type": "markdown",
   "metadata": {},
   "source": [
    "Remaining is the \"Juice of whatever\", and some \"One part\" ratio stuff."
   ]
  },
  {
   "cell_type": "code",
   "execution_count": 62,
   "metadata": {},
   "outputs": [
    {
     "name": "stdout",
     "output_type": "stream",
     "text": [
      "Juice of 2 oranges\t1\n",
      "Juice of 2 lemons\t1\n",
      "Juice of 12 lemons\t1\n",
      "Juice of 1/2 lemon\t19\n",
      "Juice of 1/2 lime\t12\n",
      "Juice of 1 lime\t9\n",
      "Juice of 1 orange\t4\n",
      "Juice of 1/4 lemon\t6\n",
      "Juice of 1/4 orange\t3\n",
      "Juice of 1 lemon\t6\n",
      "Juice of 2 limes\t2\n",
      "Juice of 1 passion fruit\t1\n",
      "Juice of 1/4 lime\t1\n"
     ]
    }
   ],
   "source": [
    "for k, count in units.items():\n",
    "    if k.startswith(\"Juice of\"):\n",
    "        print(f\"{k}\\t{count}\")"
   ]
  },
  {
   "cell_type": "markdown",
   "metadata": {},
   "source": [
    "Ok, this is not as consistent as I would have hoped, so I'm going to go through by hand and pick out the ones that are less consistent and normalize them by hand. "
   ]
  },
  {
   "cell_type": "code",
   "execution_count": 66,
   "metadata": {},
   "outputs": [
    {
     "name": "stdout",
     "output_type": "stream",
     "text": [
      "5.0 ounces orange juice\n",
      "3.0 ounces lemon juice\n",
      "18.0 ounces lemon juice\n",
      "0.75 ounces lemon juice\n",
      "0.5 ounces lime juice\n",
      "1.0 ounces lime juice\n",
      "2.5 ounces orange juice\n",
      "0.75 ounces lemon juice\n",
      "0.75 ounces lemon juice\n",
      "0.375 ounces lemon juice\n",
      "0.625 ounces orange juice\n",
      "0.625 ounces orange juice\n",
      "1.0 ounces lime juice\n",
      "0.5 ounces lime juice\n",
      "0.75 ounces lemon juice\n",
      "0.375 ounces lemon juice\n",
      "0.625 ounces orange juice\n",
      "0.75 ounces lemon juice\n",
      "0.75 ounces lemon juice\n",
      "0.75 ounces lemon juice\n",
      "0.5 ounces lime juice\n",
      "0.75 ounces lemon juice\n",
      "0.75 ounces lemon juice\n",
      "0.5 ounces lime juice\n",
      "0.75 ounces lemon juice\n",
      "0.75 ounces lemon juice\n",
      "0.375 ounces lemon juice\n",
      "0.5 ounces lime juice\n",
      "0.75 ounces lemon juice\n",
      "1.5 ounces lemon juice\n",
      "1.5 ounces lemon juice\n",
      "1.0 ounces lime juice\n",
      "0.5 ounces lime juice\n",
      "2.0 ounces lime juice\n",
      "1.5 ounces lemon juice\n",
      "0.5 ounces lime juice\n",
      "0.75 ounces lemon juice\n",
      "0.75 ounces lemon juice\n",
      "1.0 ounces lime juice\n",
      "0.5 ounces lime juice\n",
      "1.0 ounces lime juice\n",
      "1.0 ounces lime juice\n",
      "2.5 ounces orange juice\n",
      "0.5 ounces lime juice\n",
      "0.375 ounces lemon juice\n",
      "1.0 ounces passionfruit juice\n",
      "0.5 ounces lime juice\n",
      "0.375 ounces lemon juice\n",
      "2.5 ounces orange juice\n",
      "0.375 ounces lemon juice\n",
      "0.75 ounces lemon juice\n",
      "0.75 ounces lemon juice\n",
      "1.5 ounces lemon juice\n",
      "1.0 ounces lime juice\n",
      "2.5 ounces orange juice\n",
      "0.75 ounces lemon juice\n",
      "0.5 ounces lime juice\n",
      "2.0 ounces lime juice\n",
      "0.5 ounces lime juice\n",
      "1.0 ounces lime juice\n",
      "0.75 ounces lemon juice\n",
      "1.0 ounces lime juice\n",
      "0.75 ounces lemon juice\n",
      "1.5 ounces lemon juice\n",
      "1.5 ounces lemon juice\n",
      "0.25 ounces lime juice\n"
     ]
    }
   ],
   "source": [
    "juice_amts = {'lime': 1, 'lemon': 1.5, 'orange': 2.5, 'passionfruit': 1}\n",
    "\n",
    "# The passionfruit is pretty much a guess based on looking at how to juice them online\n",
    "\n",
    "def juice_normalize(i):\n",
    "    if type(i) is str and i.startswith(\"Juice of\"):\n",
    "        tok = i.split()\n",
    "        amount = tok[2]\n",
    "        fruit = lemma.lemmatize(tok[3])\n",
    "        total = None\n",
    "        if \"/\" in amount:\n",
    "            a, b = amount.split(\"/\")\n",
    "            total = float(a)/float(b) * juice_amts[fruit]\n",
    "        else:\n",
    "            total = float(amount) * juice_amts[fruit]\n",
    "        print(f\"{total} ounces {fruit} juice\")\n",
    "        return {\"ingred_name\": f\"{fruit} juice\", \"ingred_unit\": \"ounce\", \"ingred_amount\": total}\n",
    "    else:\n",
    "        return i\n",
    "\n",
    "data = recipe_processor(\"./data/cleaned/beth_skwarecki_cocktails.json\", juice_normalize)\n",
    "with open (\"./data/cleaned/beth_skwarecki_cocktails.json\", 'w') as outfile:\n",
    "    json.dump(data, outfile, indent=4)"
   ]
  },
  {
   "cell_type": "code",
   "execution_count": 70,
   "metadata": {},
   "outputs": [],
   "source": [
    "# Handle \"parts\" cocktails\n",
    "def unpart(i):\n",
    "    if type(i) is str and i.startswith(\"One part\"):\n",
    "        tok = i.split()\n",
    "        amount = 1\n",
    "        unit = \"part\"\n",
    "        ingred = \" \".join(tok[2:])\n",
    "        return {\"ingred_unit\": unit, \"ingred_amount\": amount, \"ingred_name\": ingred}\n",
    "    else:\n",
    "        return i\n",
    "    \n",
    "data  = recipe_processor(\"./data/cleaned/beth_skwarecki_cocktails.json\", unpart)\n",
    "with open (\"./data/cleaned/beth_skwarecki_cocktails.json\", 'w') as outfile:\n",
    "    json.dump(data, outfile, indent=4)"
   ]
  },
  {
   "cell_type": "markdown",
   "metadata": {},
   "source": [
    "At this point, I think I'm pretty much done, in that everything that has a specified amount. I do have to go through and clean up places where there are things that are not ingredients in the ingredients, but that's straightforward. "
   ]
  }
 ],
 "metadata": {
  "kernelspec": {
   "display_name": "Python 3",
   "language": "python",
   "name": "python3"
  },
  "language_info": {
   "codemirror_mode": {
    "name": "ipython",
    "version": 3
   },
   "file_extension": ".py",
   "mimetype": "text/x-python",
   "name": "python",
   "nbconvert_exporter": "python",
   "pygments_lexer": "ipython3",
   "version": "3.8.10"
  }
 },
 "nbformat": 4,
 "nbformat_minor": 2
}
