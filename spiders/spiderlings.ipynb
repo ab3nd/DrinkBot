{
 "cells": [
  {
   "cell_type": "code",
   "execution_count": 43,
   "metadata": {},
   "outputs": [],
   "source": [
    "import requests\n",
    "import json\n",
    "from bs4 import BeautifulSoup\n",
    "\n",
    "def get_page(url):\n",
    "    req = requests.get(url)\n",
    "    soup = BeautifulSoup(req.text, \"lxml\")\n",
    "    json_script = soup.find(\"script\", type=\"application/ld+json\")\n",
    "\n",
    "    # If we got the content\n",
    "    if json_script is not None:\n",
    "        script_content = json.loads(json_script.text)\n",
    "        # If the last thing in the navigation is \"Cocktail Recipes\"\n",
    "        if (\"Cocktail Recipes\" == script_content[0]['itemListElement'][-1]['item']['name']):\n",
    "            script_content = json.loads(json_script.text)\n",
    "            drink_name = script_content[1]['name']\n",
    "            ingredients = script_content[1][\"recipeIngredient\"]\n",
    "            instr = script_content[1][\"recipeInstructions\"]\n",
    "\n",
    "            step_list = []\n",
    "            for step in instr:\n",
    "                step_list.append(step[\"text\"])\n",
    "\n",
    "            with open(\"martha_stewart.json\", 'a') as outfile:\n",
    "                data = {\"name\": drink_name, \"ingredients\": ingredients, \"instructions\": step_list}\n"
   ]
  },
  {
   "cell_type": "code",
   "execution_count": 46,
   "metadata": {},
   "outputs": [
    {
     "name": "stdout",
     "output_type": "stream",
     "text": [
      "French Martini\n",
      "['1 1/2 ounces vodka', '1/2 ounce Chambord', '3/4 ounces pineapple juice', 'Lemon twist, for garnish']\n",
      "Fill a cocktail shaker halfway with ice. Add in vodka, Chambord, and pineapple juice. Shake well. Strain into a 4-ounce martini glass and garnish with lemon twist.\n"
     ]
    }
   ],
   "source": [
    "get_page(\"https://www.marthastewart.com/1165530/french-martini\")"
   ]
  },
  {
   "cell_type": "code",
   "execution_count": 42,
   "metadata": {},
   "outputs": [
    {
     "name": "stdout",
     "output_type": "stream",
     "text": [
      "True\n"
     ]
    }
   ],
   "source": [
    "req = requests.get(\"https://www.marthastewart.com/314342/extra-dirty-martini\")\n",
    "soup = BeautifulSoup(req.text, \"lxml\")\n",
    "json_script = soup.find(\"script\", type=\"application/ld+json\")\n",
    "script_content = json.loads(json_script.text)\n",
    "print(\"Cocktail Recipes\" == script_content[0]['itemListElement'][-1]['item']['name'])"
   ]
  },
  {
   "cell_type": "code",
   "execution_count": null,
   "metadata": {},
   "outputs": [],
   "source": [
    "# Esquire has somewhat semantic markup for recipes\n",
    "# Ingredients are in a ingredients-body\n",
    "# Instructions are in a directions-body\n",
    "# Can probably filter URLs by having \"drinks\" in them, like\n",
    "# <link href=\"https://www.esquire.com/food-drink/drinks/recipes/a3683/negroni-drink-recipe/\" rel=\"canonical\">\n",
    "\n",
    "    "
   ]
  },
  {
   "cell_type": "code",
   "execution_count": null,
   "metadata": {},
   "outputs": [],
   "source": [
    "# https://www.thecocktaildb.com/api.php\n",
    "# Probably has some sort of rate limiting or something.\n",
    "# May end up being an excuse to write a proxy spinner\n"
   ]
  },
  {
   "cell_type": "code",
   "execution_count": null,
   "metadata": {},
   "outputs": [],
   "source": [
    "#https://makemeacocktail.com/recipes/Gin-cocktails/?ing=61\n",
    "#https://kindredcocktails.com/cocktail/bananarac\n",
    "#https://www.thecocktailproject.com/search-recipes\n",
    "# URLS of the form https://www.diffordsguide.com/cocktails/recipe\n",
    "#https://www.cocktailcontessa.com\n",
    "#https://www.allrecipes.com/recipes/133/drinks/cocktails/\n",
    "#https://www.seriouseats.com/drink-recipes-5117861\n",
    "#https://imbibemagazine.com/category/recipes/cocktails-spirits-recipes/\n",
    "#https://mrbostondrinks.com/recipes/blue-lagoon"
   ]
  },
  {
   "cell_type": "code",
   "execution_count": 52,
   "metadata": {},
   "outputs": [
    {
     "name": "stdout",
     "output_type": "stream",
     "text": [
      "None\n",
      "<_sre.SRE_Match object; span=(0, 29), match='https://www.marthastewart.com'>\n"
     ]
    }
   ],
   "source": [
    "url = \"https://www.pinterest.com/pin/create/link/?url=https://www.marthastewart.com/2126005/halloween-cake-recipes?slide=094fbdda-1f06-42ae-8722-fe180a2413fd%3Futm_source=pinterest.com%26utm_medium=social%26utm_campaign=social-share-gallery%26utm_content=20210921&media=https%3A%2F%2Fimagesvc.meredithcorp.io%2Fv3%2Fmm%2Fimage%3Furl%3Dhttps%253A%252F%252Fassets.marthastewart.com%252Fstyles%252Fwmax-750%252Fd33%252Fcrawly-cake-phobias-1011mld107647%252Fcrawly-cake-phobias-1011mld107647_vert_0_horiz.jpg%253Fitok%253Df2RnN138&description=Creepy-Crawly%20Cake%20\"\n",
    "import re\n",
    "matcher = re.compile(\"(http|https)://www\\.marthastewart\\.com\")\n",
    "print(re.match(matcher, url))\n",
    "url = \"https://www.marthastewart.com/2138473/pastry-chef-dominique-ansel-shares-lessons-learned-martha-stewart\"\n",
    "print(re.match(matcher, url))\n"
   ]
  },
  {
   "cell_type": "code",
   "execution_count": 2,
   "metadata": {},
   "outputs": [],
   "source": [
    "import requests\n",
    "from bs4 import BeautifulSoup\n",
    "req = requests.get(\"https://mrbostondrinks.com/recipes/blue-lagoon-2000\")\n",
    "soup = BeautifulSoup(req.text, \"lxml\")\n"
   ]
  },
  {
   "cell_type": "code",
   "execution_count": 3,
   "metadata": {},
   "outputs": [
    {
     "data": {
      "text/plain": [
       "'<!doctype html>\\n<html class=\"no-js\" ng-app=\"mrBostonRecipes\" lang=\"en\" ng-strict-di>\\n  <head>\\n    <meta charset=\"utf-8\">\\n    <meta name=\"viewport\" content=\"width=device-width, initial-scale=1, user-scalable=no\">\\n    <title ng-bind-template=\"{{viewTitle}} | Mr. Boston Drinks\"></title>\\n    <base href=\"/index.html\">\\n    <meta property=\"og:site_name\" content=\"Mr. Boston Drinks\"/>\\n    <meta name=\"fragment\" content=\"!\">\\n    <meta property=\"fb:app_id\" content=\"948323305227233\" />\\n    <meta name=\"p:domain_verify\" content=\"1d1fa1f440b02fc553b3079876039d7a\" />\\n\\n    <link rel=\"icon\" type=\"image/png\" href=\"/app/img/favicon.png\"/>\\n    <link rel=\"apple-touch-icon\" href=\"/app/img/ipad@1x.png\" sizes=\"76x76\"/>\\n    <link rel=\"apple-touch-icon\" href=\"/app/img/iphone.png\" sizes=\"120x120\"/>\\n    <link rel=\"apple-touch-icon\" href=\"/app/img/ipad@2x.png\" sizes=\"152x152\"/>\\n    <link rel=\"apple-touch-icon\" href=\"/app/img/iphone6plus.png\" sizes=\"180x180\"/>\\n\\n\\n    \\n    \\n    <link rel=\"stylesheet\" type=\"text/css\" href=\"app/build/global.min.css?20210818171553\" media=\"screen\"/>\\n    \\n\\n    \\n    <script>\\n    var _rollbarConfig = {\\n        accessToken: \"7c5d249d43c944a287e6b16f9e43e29f\",\\n        captureUncaught: true,\\n        captureUnhandledRejections: false,\\n        payload: {\\n            environment: \"production\"\\n        }\\n    };\\n    // Rollbar Snippet\\n    !function(r){function e(t){if(o[t])return o[t].exports;var n=o[t]={exports:{},id:t,loaded:!1};return r[t].call(n.exports,n,n.exports,e),n.loaded=!0,n.exports}var o={};return e.m=r,e.c=o,e.p=\"\",e(0)}([function(r,e,o){\"use strict\";var t=o(1).Rollbar,n=o(2);_rollbarConfig.rollbarJsUrl=_rollbarConfig.rollbarJsUrl||\"https://d37gvrvc0wt4s1.cloudfront.net/js/v1.9/rollbar.min.js\";var a=t.init(window,_rollbarConfig),i=n(a,_rollbarConfig);a.loadFull(window,document,!_rollbarConfig.async,_rollbarConfig,i)},function(r,e){\"use strict\";function o(r){return function(){try{return r.apply(this,arguments)}catch(e){try{console.error(\"[Rollbar]: Internal error\",e)}catch(o){}}}}function t(r,e,o){window._rollbarWrappedError&&(o[4]||(o[4]=window._rollbarWrappedError),o[5]||(o[5]=window._rollbarWrappedError._rollbarContext),window._rollbarWrappedError=null),r.uncaughtError.apply(r,o),e&&e.apply(window,o)}function n(r){var e=function(){var e=Array.prototype.slice.call(arguments,0);t(r,r._rollbarOldOnError,e)};return e.belongsToShim=!0,e}function a(r){this.shimId=++c,this.notifier=null,this.parentShim=r,this._rollbarOldOnError=null}function i(r){var e=a;return o(function(){if(this.notifier)return this.notifier[r].apply(this.notifier,arguments);var o=this,t=\"scope\"===r;t&&(o=new e(this));var n=Array.prototype.slice.call(arguments,0),a={shim:o,method:r,args:n,ts:new Date};return window._rollbarShimQueue.push(a),t?o:void 0})}function l(r,e){if(e.hasOwnProperty&&e.hasOwnProperty(\"addEventListener\")){var o=e.addEventListener;e.addEventListener=function(e,t,n){o.call(this,e,r.wrap(t),n)};var t=e.removeEventListener;e.removeEventListener=function(r,e,o){t.call(this,r,e&&e._wrapped?e._wrapped:e,o)}}}var c=0;a.init=function(r,e){var t=e.globalAlias||\"Rollbar\";if(\"object\"==typeof r[t])return r[t];r._rollbarShimQueue=[],r._rollbarWrappedError=null,e=e||{};var i=new a;return o(function(){if(i.configure(e),e.captureUncaught){i._rollbarOldOnError=r.onerror,r.onerror=n(i);var o,a,c=\"EventTarget,Window,Node,ApplicationCache,AudioTrackList,ChannelMergerNode,CryptoOperation,EventSource,FileReader,HTMLUnknownElement,IDBDatabase,IDBRequest,IDBTransaction,KeyOperation,MediaController,MessagePort,ModalWindow,Notification,SVGElementInstance,Screen,TextTrack,TextTrackCue,TextTrackList,WebSocket,WebSocketWorker,Worker,XMLHttpRequest,XMLHttpRequestEventTarget,XMLHttpRequestUpload\".split(\",\");for(o=0;o<c.length;++o)a=c[o],r[a]&&r[a].prototype&&l(i,r[a].prototype)}return e.captureUnhandledRejections&&(i._unhandledRejectionHandler=function(r){var e=r.reason,o=r.promise,t=r.detail;!e&&t&&(e=t.reason,o=t.promise),i.unhandledRejection(e,o)},r.addEventListener(\"unhandledrejection\",i._unhandledRejectionHandler)),r[t]=i,i})()},a.prototype.loadFull=function(r,e,t,n,a){var i=function(){var e;if(void 0===r._rollbarPayloadQueue){var o,t,n,i;for(e=new Error(\"rollbar.js did not load\");o=r._rollbarShimQueue.shift();)for(n=o.args,i=0;i<n.length;++i)if(t=n[i],\"function\"==typeof t){t(e);break}}\"function\"==typeof a&&a(e)},l=!1,c=e.createElement(\"script\"),d=e.getElementsByTagName(\"script\")[0],p=d.parentNode;c.crossOrigin=\"\",c.src=n.rollbarJsUrl,c.async=!t,c.onload=c.onreadystatechange=o(function(){if(!(l||this.readyState&&\"loaded\"!==this.readyState&&\"complete\"!==this.readyState)){c.onload=c.onreadystatechange=null;try{p.removeChild(c)}catch(r){}l=!0,i()}}),p.insertBefore(c,d)},a.prototype.wrap=function(r,e){try{var o;if(o=\"function\"==typeof e?e:function(){return e||{}},\"function\"!=typeof r)return r;if(r._isWrap)return r;if(!r._wrapped){r._wrapped=function(){try{return r.apply(this,arguments)}catch(e){throw e._rollbarContext=o()||{},e._rollbarContext._wrappedSource=r.toString(),window._rollbarWrappedError=e,e}},r._wrapped._isWrap=!0;for(var t in r)r.hasOwnProperty(t)&&(r._wrapped[t]=r[t])}return r._wrapped}catch(n){return r}};for(var d=\"log,debug,info,warn,warning,error,critical,global,configure,scope,uncaughtError,unhandledRejection\".split(\",\"),p=0;p<d.length;++p)a.prototype[d[p]]=i(d[p]);r.exports={Rollbar:a,_rollbarWindowOnError:t}},function(r,e){\"use strict\";r.exports=function(r,e){return function(o){if(!o&&!window._rollbarInitialized){var t=window.RollbarNotifier,n=e||{},a=n.globalAlias||\"Rollbar\",i=window.Rollbar.init(n,r);i._processShimQueue(window._rollbarShimQueue||[]),window[a]=i,window._rollbarInitialized=!0,t.processPayloads()}}}}]);\\n    // End Rollbar Snippet\\n    </script>\\n    \\n\\n    <!-- Typekit -->\\n    <script>\\n        /* jshint ignore:start */\\n        //jscs:disable\\n        (function(d) {\\n            var config = {\\n              kitId: \\'vfi5mzl\\',\\n              scriptTimeout: 3000\\n            },\\n            h=d.documentElement,t=setTimeout(function(){h.className=h.className.replace(/\\\\bwf-loading\\\\b/g,\"\")+\" wf-inactive\";},config.scriptTimeout),tk=d.createElement(\"script\"),f=false,s=d.getElementsByTagName(\"script\")[0],a;h.className+=\" wf-loading\";tk.src=\\'//use.typekit.net/\\'+config.kitId+\\'.js\\';tk.async=true;tk.onload=tk.onreadystatechange=function(){a=this.readyState;if(f||a&&a!=\"complete\"&&a!=\"loaded\")return;f=true;clearTimeout(t);try{Typekit.load(config)}catch(e){}};s.parentNode.insertBefore(tk,s)\\n        })(document);\\n        //jscs:enable\\n        /* jshint ignore:end */\\n    </script>\\n    <!-- OneTrust Cookies Consent Notice start -->\\n    <script src=\"https://cdn.cookielaw.org/scripttemplates/otSDKStub.js\"  type=\"text/javascript\" charset=\"UTF-8\" data-domain-script=\"73134d17-14af-4d4c-9700-bc11cbd66f33\"></script>\\n    <script type=\"text/javascript\">\\n    function OptanonWrapper() { }\\n    </script>\\n    <!-- OneTrust Cookies Consent Notice end -->\\n  </head>\\n  <body>\\n    \\n    <noscript>\\n        <iframe src=\"//www.googletagmanager.com/ns.html?id=GTM-MPG3BM\" height=\"0\" width=\"0\" style=\"display:none;visibility:hidden\"></iframe>\\n    </noscript>\\n    <script>\\n        (function(w,d,s,l,i) {\\n            w[l]=w[l]||[];w[l].push(\\n                {\\n                \\'gtm.start\\': new Date().getTime(),\\n                event: \\'gtm.js\\'\\n                }\\n            );\\n            var f = d.getElementsByTagName(s)[0],\\n                j = d.createElement(s),dl = l != \\'dataLayer\\'?\\'&l=\\' + l: \\'\\';\\n                j.async = true;j.src = \\'//www.googletagmanager.com/gtm.js?id=\\' + i + dl;\\n                f.parentNode.insertBefore(j,f);\\n        })\\n        (window,document,\\'script\\',\\'dataLayer\\',\\'GTM-MPG3BM\\');\\n    </script>\\n    \\n    <!--[if lt IE 10]>\\n      <p class=\"browsehappy\">You are using an <strong>outdated</strong> browser. Please <a href=\"http://browsehappy.com/\">upgrade your browser</a> to improve your experience.</p>\\n    <![endif]-->\\n    <div class=\"body-wrap {{contentClass}}\">\\n        <div class=\"app-wrapper\">\\n            <mb-search></mb-search>\\n            <md-content class=\"app-view\" ng-style=\"style()\" resize autoscroll=\"true\" ng-cloak>\\n                <mb-nav-main></mb-nav-main>\\n                <div ng-view autoscroll=\"true\"></div>\\n            </md-content>\\n        </div>\\n    </div>\\n\\n    \\n    \\n    <script src=\"/app/build/global.min.js?20210818171553\"></script>\\n    \\n</body>\\n</html>\\n\\n'"
      ]
     },
     "execution_count": 3,
     "metadata": {},
     "output_type": "execute_result"
    }
   ],
   "source": [
    "req.text"
   ]
  },
  {
   "cell_type": "code",
   "execution_count": 3,
   "metadata": {},
   "outputs": [
    {
     "name": "stdout",
     "output_type": "stream",
     "text": [
      "Four in Hand\n"
     ]
    },
    {
     "name": "stderr",
     "output_type": "stream",
     "text": [
      "/usr/lib/python3/dist-packages/bs4/__init__.py:181: UserWarning: No parser was explicitly specified, so I'm using the best available HTML parser for this system (\"lxml\"). This usually isn't a problem, but if you run this code on another system, or in a different virtual environment, it may use a different parser and behave differently.\n",
      "\n",
      "The code that caused this warning is on line 193 of the file /usr/lib/python3.6/runpy.py. To get rid of this warning, change code that looks like this:\n",
      "\n",
      " BeautifulSoup(YOUR_MARKUP})\n",
      "\n",
      "to this:\n",
      "\n",
      " BeautifulSoup(YOUR_MARKUP, \"lxml\")\n",
      "\n",
      "  markup_type=markup_type))\n"
     ]
    }
   ],
   "source": [
    "from bs4 import BeautifulSoup\n",
    "with open(\"./data/index.html\", 'r') as infile:\n",
    "    html = infile.read()\n",
    "    bs = BeautifulSoup(html)\n",
    "    print(bs.find(\"h1\", attrs={\"class\": \"recipe-name\"}).text)"
   ]
  },
  {
   "cell_type": "code",
   "execution_count": null,
   "metadata": {},
   "outputs": [],
   "source": []
  }
 ],
 "metadata": {
  "interpreter": {
   "hash": "31f2aee4e71d21fbe5cf8b01ff0e069b9275f58929596ceb00d14d90e3e16cd6"
  },
  "kernelspec": {
   "display_name": "Python 3.6.9 64-bit",
   "name": "python3"
  },
  "language_info": {
   "codemirror_mode": {
    "name": "ipython",
    "version": 3
   },
   "file_extension": ".py",
   "mimetype": "text/x-python",
   "name": "python",
   "nbconvert_exporter": "python",
   "pygments_lexer": "ipython3",
   "version": "3.6.9"
  },
  "orig_nbformat": 4
 },
 "nbformat": 4,
 "nbformat_minor": 2
}
