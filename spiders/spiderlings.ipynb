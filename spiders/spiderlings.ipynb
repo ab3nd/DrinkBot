{
 "cells": [
  {
   "cell_type": "code",
   "execution_count": 43,
   "metadata": {},
   "outputs": [],
   "source": [
    "import requests\n",
    "import json\n",
    "from bs4 import BeautifulSoup\n",
    "\n",
    "def get_page(url):\n",
    "    req = requests.get(url)\n",
    "    soup = BeautifulSoup(req.text, \"lxml\")\n",
    "    json_script = soup.find(\"script\", type=\"application/ld+json\")\n",
    "\n",
    "    # If we got the content\n",
    "    if json_script is not None:\n",
    "        script_content = json.loads(json_script.text)\n",
    "        # If the last thing in the navigation is \"Cocktail Recipes\"\n",
    "        if (\"Cocktail Recipes\" == script_content[0]['itemListElement'][-1]['item']['name']):\n",
    "            script_content = json.loads(json_script.text)\n",
    "            drink_name = script_content[1]['name']\n",
    "            ingredients = script_content[1][\"recipeIngredient\"]\n",
    "            instr = script_content[1][\"recipeInstructions\"]\n",
    "\n",
    "            step_list = []\n",
    "            for step in instr:\n",
    "                step_list.append(step[\"text\"])\n",
    "\n",
    "            with open(\"martha_stewart.json\", 'a') as outfile:\n",
    "                data = {\"name\": drink_name, \"ingredients\": ingredients, \"instructions\": step_list}\n"
   ]
  },
  {
   "cell_type": "code",
   "execution_count": 46,
   "metadata": {},
   "outputs": [
    {
     "name": "stdout",
     "output_type": "stream",
     "text": [
      "French Martini\n",
      "['1 1/2 ounces vodka', '1/2 ounce Chambord', '3/4 ounces pineapple juice', 'Lemon twist, for garnish']\n",
      "Fill a cocktail shaker halfway with ice. Add in vodka, Chambord, and pineapple juice. Shake well. Strain into a 4-ounce martini glass and garnish with lemon twist.\n"
     ]
    }
   ],
   "source": [
    "get_page(\"https://www.marthastewart.com/1165530/french-martini\")"
   ]
  },
  {
   "cell_type": "code",
   "execution_count": 42,
   "metadata": {},
   "outputs": [
    {
     "name": "stdout",
     "output_type": "stream",
     "text": [
      "True\n"
     ]
    }
   ],
   "source": [
    "req = requests.get(\"https://www.marthastewart.com/314342/extra-dirty-martini\")\n",
    "soup = BeautifulSoup(req.text, \"lxml\")\n",
    "json_script = soup.find(\"script\", type=\"application/ld+json\")\n",
    "script_content = json.loads(json_script.text)\n",
    "print(\"Cocktail Recipes\" == script_content[0]['itemListElement'][-1]['item']['name'])"
   ]
  },
  {
   "cell_type": "code",
   "execution_count": null,
   "metadata": {},
   "outputs": [],
   "source": [
    "# Esquire has somewhat semantic markup for recipes\n",
    "# Ingredients are in a ingredients-body\n",
    "# Instructions are in a directions-body\n",
    "# Can probably filter URLs by having \"drinks\" in them, like\n",
    "# <link href=\"https://www.esquire.com/food-drink/drinks/recipes/a3683/negroni-drink-recipe/\" rel=\"canonical\">\n",
    "\n",
    "    "
   ]
  },
  {
   "cell_type": "code",
   "execution_count": null,
   "metadata": {},
   "outputs": [],
   "source": [
    "# https://www.thecocktaildb.com/api.php\n",
    "# Probably has some sort of rate limiting or something.\n",
    "# May end up being an excuse to write a proxy spinner\n"
   ]
  },
  {
   "cell_type": "code",
   "execution_count": null,
   "metadata": {},
   "outputs": [],
   "source": [
    "#https://makemeacocktail.com/recipes/Gin-cocktails/?ing=61\n",
    "#https://kindredcocktails.com/cocktail/bananarac\n",
    "#https://www.thecocktailproject.com/search-recipes\n",
    "# URLS of the form https://www.diffordsguide.com/cocktails/recipe\n",
    "#https://www.cocktailcontessa.com\n",
    "#https://www.allrecipes.com/recipes/133/drinks/cocktails/\n",
    "#https://www.seriouseats.com/drink-recipes-5117861\n",
    "#https://imbibemagazine.com/category/recipes/cocktails-spirits-recipes/\n",
    "#https://mrbostondrinks.com/recipes/blue-lagoon"
   ]
  },
  {
   "cell_type": "code",
   "execution_count": 52,
   "metadata": {},
   "outputs": [
    {
     "name": "stdout",
     "output_type": "stream",
     "text": [
      "None\n",
      "<_sre.SRE_Match object; span=(0, 29), match='https://www.marthastewart.com'>\n"
     ]
    }
   ],
   "source": [
    "url = \"https://www.pinterest.com/pin/create/link/?url=https://www.marthastewart.com/2126005/halloween-cake-recipes?slide=094fbdda-1f06-42ae-8722-fe180a2413fd%3Futm_source=pinterest.com%26utm_medium=social%26utm_campaign=social-share-gallery%26utm_content=20210921&media=https%3A%2F%2Fimagesvc.meredithcorp.io%2Fv3%2Fmm%2Fimage%3Furl%3Dhttps%253A%252F%252Fassets.marthastewart.com%252Fstyles%252Fwmax-750%252Fd33%252Fcrawly-cake-phobias-1011mld107647%252Fcrawly-cake-phobias-1011mld107647_vert_0_horiz.jpg%253Fitok%253Df2RnN138&description=Creepy-Crawly%20Cake%20\"\n",
    "import re\n",
    "matcher = re.compile(\"(http|https)://www\\.marthastewart\\.com\")\n",
    "print(re.match(matcher, url))\n",
    "url = \"https://www.marthastewart.com/2138473/pastry-chef-dominique-ansel-shares-lessons-learned-martha-stewart\"\n",
    "print(re.match(matcher, url))\n"
   ]
  },
  {
   "cell_type": "code",
   "execution_count": 2,
   "metadata": {},
   "outputs": [],
   "source": [
    "import requests\n",
    "from bs4 import BeautifulSoup\n",
    "req = requests.get(\"https://mrbostondrinks.com/recipes/blue-lagoon-2000\")\n",
    "soup = BeautifulSoup(req.text, \"lxml\")\n"
   ]
  },
  {
   "cell_type": "code",
   "execution_count": 3,
   "metadata": {},
   "outputs": [
    {
     "data": {
      "text/plain": [
       "'<!doctype html>\\n<html class=\"no-js\" ng-app=\"mrBostonRecipes\" lang=\"en\" ng-strict-di>\\n  <head>\\n    <!-- Google Tag Manager -->\\n    <script>(function(w,d,s,l,i){w[l]=w[l]||[];w[l].push({\\'gtm.start\\':\\n    new Date().getTime(),event:\\'gtm.js\\'});var f=d.getElementsByTagName(s)[0],\\n    j=d.createElement(s),dl=l!=\\'dataLayer\\'?\\'&l=\\'+l:\\'\\';j.async=true;j.src=\\n    \\'https://www.googletagmanager.com/gtm.js?id=\\'+i+dl;f.parentNode.insertBefore(j,f);\\n    })(window,document,\\'script\\',\\'dataLayer\\',\\'GTM-NSKCGD4\\');</script>\\n    <!-- End Google Tag Manager -->\\n    <meta charset=\"utf-8\">\\n    <meta name=\"viewport\" content=\"width=device-width, initial-scale=1, user-scalable=no\">\\n    <title ng-bind-template=\"{{viewTitle}} | Mr. Boston Drinks\"></title>\\n    <base href=\"/index.html\">\\n    <meta property=\"og:site_name\" content=\"Mr. Boston Drinks\"/>\\n    <meta name=\"fragment\" content=\"!\">\\n    <meta property=\"fb:app_id\" content=\"948323305227233\" />\\n    <meta name=\"p:domain_verify\" content=\"1d1fa1f440b02fc553b3079876039d7a\" />\\n\\n    <link rel=\"icon\" type=\"image/png\" href=\"/app/img/favicon.png\"/>\\n    <link rel=\"apple-touch-icon\" href=\"/app/img/ipad@1x.png\" sizes=\"76x76\"/>\\n    <link rel=\"apple-touch-icon\" href=\"/app/img/iphone.png\" sizes=\"120x120\"/>\\n    <link rel=\"apple-touch-icon\" href=\"/app/img/ipad@2x.png\" sizes=\"152x152\"/>\\n    <link rel=\"apple-touch-icon\" href=\"/app/img/iphone6plus.png\" sizes=\"180x180\"/>\\n\\n\\n    \\n    \\n    <link rel=\"stylesheet\" type=\"text/css\" href=\"app/build/global.min.css?20230629175512\" media=\"screen\"/>\\n    \\n\\n    \\n    <script>\\n    var _rollbarConfig = {\\n        accessToken: \"7c5d249d43c944a287e6b16f9e43e29f\",\\n        captureUncaught: true,\\n        captureUnhandledRejections: false,\\n        payload: {\\n            environment: \"production\"\\n        }\\n    };\\n    // Rollbar Snippet\\n    !function(r){function e(t){if(o[t])return o[t].exports;var n=o[t]={exports:{},id:t,loaded:!1};return r[t].call(n.exports,n,n.exports,e),n.loaded=!0,n.exports}var o={};return e.m=r,e.c=o,e.p=\"\",e(0)}([function(r,e,o){\"use strict\";var t=o(1).Rollbar,n=o(2);_rollbarConfig.rollbarJsUrl=_rollbarConfig.rollbarJsUrl||\"https://d37gvrvc0wt4s1.cloudfront.net/js/v1.9/rollbar.min.js\";var a=t.init(window,_rollbarConfig),i=n(a,_rollbarConfig);a.loadFull(window,document,!_rollbarConfig.async,_rollbarConfig,i)},function(r,e){\"use strict\";function o(r){return function(){try{return r.apply(this,arguments)}catch(e){try{console.error(\"[Rollbar]: Internal error\",e)}catch(o){}}}}function t(r,e,o){window._rollbarWrappedError&&(o[4]||(o[4]=window._rollbarWrappedError),o[5]||(o[5]=window._rollbarWrappedError._rollbarContext),window._rollbarWrappedError=null),r.uncaughtError.apply(r,o),e&&e.apply(window,o)}function n(r){var e=function(){var e=Array.prototype.slice.call(arguments,0);t(r,r._rollbarOldOnError,e)};return e.belongsToShim=!0,e}function a(r){this.shimId=++c,this.notifier=null,this.parentShim=r,this._rollbarOldOnError=null}function i(r){var e=a;return o(function(){if(this.notifier)return this.notifier[r].apply(this.notifier,arguments);var o=this,t=\"scope\"===r;t&&(o=new e(this));var n=Array.prototype.slice.call(arguments,0),a={shim:o,method:r,args:n,ts:new Date};return window._rollbarShimQueue.push(a),t?o:void 0})}function l(r,e){if(e.hasOwnProperty&&e.hasOwnProperty(\"addEventListener\")){var o=e.addEventListener;e.addEventListener=function(e,t,n){o.call(this,e,r.wrap(t),n)};var t=e.removeEventListener;e.removeEventListener=function(r,e,o){t.call(this,r,e&&e._wrapped?e._wrapped:e,o)}}}var c=0;a.init=function(r,e){var t=e.globalAlias||\"Rollbar\";if(\"object\"==typeof r[t])return r[t];r._rollbarShimQueue=[],r._rollbarWrappedError=null,e=e||{};var i=new a;return o(function(){if(i.configure(e),e.captureUncaught){i._rollbarOldOnError=r.onerror,r.onerror=n(i);var o,a,c=\"EventTarget,Window,Node,ApplicationCache,AudioTrackList,ChannelMergerNode,CryptoOperation,EventSource,FileReader,HTMLUnknownElement,IDBDatabase,IDBRequest,IDBTransaction,KeyOperation,MediaController,MessagePort,ModalWindow,Notification,SVGElementInstance,Screen,TextTrack,TextTrackCue,TextTrackList,WebSocket,WebSocketWorker,Worker,XMLHttpRequest,XMLHttpRequestEventTarget,XMLHttpRequestUpload\".split(\",\");for(o=0;o<c.length;++o)a=c[o],r[a]&&r[a].prototype&&l(i,r[a].prototype)}return e.captureUnhandledRejections&&(i._unhandledRejectionHandler=function(r){var e=r.reason,o=r.promise,t=r.detail;!e&&t&&(e=t.reason,o=t.promise),i.unhandledRejection(e,o)},r.addEventListener(\"unhandledrejection\",i._unhandledRejectionHandler)),r[t]=i,i})()},a.prototype.loadFull=function(r,e,t,n,a){var i=function(){var e;if(void 0===r._rollbarPayloadQueue){var o,t,n,i;for(e=new Error(\"rollbar.js did not load\");o=r._rollbarShimQueue.shift();)for(n=o.args,i=0;i<n.length;++i)if(t=n[i],\"function\"==typeof t){t(e);break}}\"function\"==typeof a&&a(e)},l=!1,c=e.createElement(\"script\"),d=e.getElementsByTagName(\"script\")[0],p=d.parentNode;c.crossOrigin=\"\",c.src=n.rollbarJsUrl,c.async=!t,c.onload=c.onreadystatechange=o(function(){if(!(l||this.readyState&&\"loaded\"!==this.readyState&&\"complete\"!==this.readyState)){c.onload=c.onreadystatechange=null;try{p.removeChild(c)}catch(r){}l=!0,i()}}),p.insertBefore(c,d)},a.prototype.wrap=function(r,e){try{var o;if(o=\"function\"==typeof e?e:function(){return e||{}},\"function\"!=typeof r)return r;if(r._isWrap)return r;if(!r._wrapped){r._wrapped=function(){try{return r.apply(this,arguments)}catch(e){throw e._rollbarContext=o()||{},e._rollbarContext._wrappedSource=r.toString(),window._rollbarWrappedError=e,e}},r._wrapped._isWrap=!0;for(var t in r)r.hasOwnProperty(t)&&(r._wrapped[t]=r[t])}return r._wrapped}catch(n){return r}};for(var d=\"log,debug,info,warn,warning,error,critical,global,configure,scope,uncaughtError,unhandledRejection\".split(\",\"),p=0;p<d.length;++p)a.prototype[d[p]]=i(d[p]);r.exports={Rollbar:a,_rollbarWindowOnError:t}},function(r,e){\"use strict\";r.exports=function(r,e){return function(o){if(!o&&!window._rollbarInitialized){var t=window.RollbarNotifier,n=e||{},a=n.globalAlias||\"Rollbar\",i=window.Rollbar.init(n,r);i._processShimQueue(window._rollbarShimQueue||[]),window[a]=i,window._rollbarInitialized=!0,t.processPayloads()}}}}]);\\n    // End Rollbar Snippet\\n    </script>\\n    \\n\\n    <!-- Typekit -->\\n    <script>\\n        /* jshint ignore:start */\\n        //jscs:disable\\n        (function(d) {\\n            var config = {\\n              kitId: \\'vfi5mzl\\',\\n              scriptTimeout: 3000\\n            },\\n            h=d.documentElement,t=setTimeout(function(){h.className=h.className.replace(/\\\\bwf-loading\\\\b/g,\"\")+\" wf-inactive\";},config.scriptTimeout),tk=d.createElement(\"script\"),f=false,s=d.getElementsByTagName(\"script\")[0],a;h.className+=\" wf-loading\";tk.src=\\'//use.typekit.net/\\'+config.kitId+\\'.js\\';tk.async=true;tk.onload=tk.onreadystatechange=function(){a=this.readyState;if(f||a&&a!=\"complete\"&&a!=\"loaded\")return;f=true;clearTimeout(t);try{Typekit.load(config)}catch(e){}};s.parentNode.insertBefore(tk,s)\\n        })(document);\\n        //jscs:enable\\n        /* jshint ignore:end */\\n    </script>\\n    <!-- OneTrust Cookies Consent Notice start -->\\n    <script src=\"https://cdn.cookielaw.org/scripttemplates/otSDKStub.js\"  type=\"text/javascript\" charset=\"UTF-8\" data-domain-script=\"73134d17-14af-4d4c-9700-bc11cbd66f33\"></script>\\n    <script type=\"text/javascript\">\\n    function OptanonWrapper() { }\\n    </script>\\n    <!-- OneTrust Cookies Consent Notice end -->\\n    <!--START Lightbox Javascript-->\\n    <script async type=\\'text/javascript\\' src=\\'https://www.lightboxcdn.com/vendor/252e95ea-d9cc-44e5-9949-710f4569b31e/lightbox_speed.js\\'></script>\\n    <!--END Lightbox Javascript-->\\n  </head>\\n  <body>\\n    <!-- Google Tag Manager (noscript) -->\\n    <noscript><iframe src=\"https://www.googletagmanager.com/ns.html?id=GTM-NSKCGD4\"\\n    height=\"0\" width=\"0\" style=\"display:none;visibility:hidden\"></iframe></noscript>\\n    <!-- End Google Tag Manager (noscript) -->\\n\\n    <!--[if lt IE 10]>\\n      <p class=\"browsehappy\">You are using an <strong>outdated</strong> browser. Please <a href=\"http://browsehappy.com/\">upgrade your browser</a> to improve your experience.</p>\\n    <![endif]-->\\n    <div class=\"body-wrap {{contentClass}}\">\\n        <div class=\"app-wrapper\">\\n            <mb-search></mb-search>\\n            <md-content class=\"app-view\" ng-style=\"style()\" resize autoscroll=\"true\" ng-cloak>\\n                <mb-nav-main></mb-nav-main>\\n                <div ng-view autoscroll=\"true\"></div>\\n            </md-content>\\n        </div>\\n    </div>\\n\\n    \\n    \\n    <script src=\"/app/build/global.min.js?20230629175512\"></script>\\n    \\n    <script>\\n    document.addEventListener(\\'DOMContentLoaded\\', function() {\\n        function menuClickFunction(event) {\\n            var clickedElement = event?.currentTarget?.querySelector(\\'a\\');\\n            window.dataLayer = window.dataLayer || [];\\n            window.dataLayer.push({\\n                \\'event\\': \\'menu_click\\',\\n                \\'menu_link\\': clickedElement?.getAttribute(\\'href\\'),\\n                \\'menu_item_name\\': clickedElement?.textContent\\n            });\\n        }\\n\\n        function linkClickFunction(event) {\\n            var clickedElement = event?.currentTarget;\\n            window.dataLayer = window.dataLayer || [];\\n            window.dataLayer.push({\\n                \\'event\\': \\'inernal_link\\',\\n                \\'link_url\\': clickedElement?.getAttribute(\\'href\\'),\\n                \\'link_name\\': clickedElement?.textContent?.trim()\\n            });\\n        }\\n\\n        var menuLinks = document.getElementById(\\'main-site-nav\\').getElementsByTagName(\\'li\\');\\n        for (var i = 0; i < menuLinks.length; i++) {\\n            menuLinks[i].addEventListener(\\'click\\', menuClickFunction);\\n        }\\n\\n        var siteLinks = document.getElementsByTagName(\\'a\\');\\n        for (var i = 0; i < siteLinks.length; i++) {\\n            var link = siteLinks[i];\\n            if (window.location.origin === link?.origin && link?.parentElement?.parentElement?.parentElement?.id !== \\'main-site-nav\\' && link?.hasAttribute(\\'href\\') && link?.getAttribute(\\'href\\')?.indexOf(\"#\") === -1)\\n                link?.addEventListener(\\'click\\', linkClickFunction);\\n        }\\n    }, false);    \\n    </script>\\n</body>\\n</html>\\n\\n'"
      ]
     },
     "execution_count": 3,
     "metadata": {},
     "output_type": "execute_result"
    }
   ],
   "source": [
    "req.text"
   ]
  },
  {
   "cell_type": "code",
   "execution_count": null,
   "metadata": {},
   "outputs": [],
   "source": [
    "from bs4 import BeautifulSoup\n",
    "with open(\"./data/index.html\", 'r') as infile:\n",
    "    html = infile.read()\n",
    "    bs = BeautifulSoup(html)\n",
    "    print(bs.find(\"h1\", attrs={\"class\": \"recipe-name\"}).text)"
   ]
  },
  {
   "cell_type": "code",
   "execution_count": null,
   "metadata": {},
   "outputs": [],
   "source": [
    "import requests\n",
    "from bs4 import BeautifulSoup\n",
    "# Request to their backend that the \"Load more\" button does\n",
    "responses = {}\n",
    "for ii in range(30):\n",
    "    req_data = {\"context\":\"recipes\",\"number\":12, \"value\":0,\"post_type\":\"recipe\",\"page\":ii}\n",
    "    responses[ii] = requests.post(\"https://www.themixer.com/en-us/wp-json/site/v1/load-more\", data=req_data)\n",
    "\n"
   ]
  },
  {
   "cell_type": "code",
   "execution_count": null,
   "metadata": {},
   "outputs": [],
   "source": [
    "# Clean up the results\n",
    "import json\n",
    "import re\n",
    "recipe_url_matcher = re.compile(\"https://www\\.themixer\\.com/en-us/recipes/[^/]*/\")\n",
    "\n",
    "recipes = []\n",
    "for r in responses.values():\n",
    "    data = json.loads(r.text)\n",
    "    as_html = data[\"html\"]\n",
    "    urls = (re.findall(recipe_url_matcher, as_html))\n",
    "    if len(urls) > 0:\n",
    "        recipes.extend(urls)"
   ]
  },
  {
   "cell_type": "code",
   "execution_count": null,
   "metadata": {},
   "outputs": [],
   "source": [
    "# Load up some random page\n",
    "test_url = recipes[20]\n",
    "page = requests.get(test_url)"
   ]
  },
  {
   "cell_type": "code",
   "execution_count": 30,
   "metadata": {},
   "outputs": [],
   "source": [
    "bs = BeautifulSoup(page.text)"
   ]
  },
  {
   "cell_type": "code",
   "execution_count": 54,
   "metadata": {},
   "outputs": [],
   "source": [
    "def mixer_to_dict(bs):\n",
    "    name = bs.find(\"h1\", attrs={\"class\", \"title\"}).text.strip()\n",
    "    \n",
    "    ingred_list = []\n",
    "    ingredients = bs.find_all(\"div\", attrs={\"class\": \"d-flex align-items-top justify-content-between export-ingredient-item\"})\n",
    "    for ing in ingredients:\n",
    "        ingredient = {}\n",
    "        quant = ing.find(\"span\", attrs = {\"class\":\"unity_quantity\"})\n",
    "        if quant is not None:\n",
    "            ingredient[\"amount\"] = quant.text.strip()\n",
    "        unit = ing.find(\"span\", attrs = {\"class\":\"unity_value\"})\n",
    "        if unit is not None:\n",
    "            ingredient[\"unit\"] = unit.text.strip()\n",
    "        content = ing.find(\"div\", attrs={\"class\": \"content\"})\n",
    "        if content is not None:\n",
    "            ingredient[\"name\"] = content.text.strip()\n",
    "\n",
    "        ingred_list.append(ingredient)\n",
    "\n",
    "    instr_list = []\n",
    "    instructions = bs.find_all(\"div\", attrs={\"class\", \"content fst-italic export-instructions-item\"})\n",
    "    for i in instructions:\n",
    "        instr_list.append(i.text.replace(\"\\n\", \"\"))\n",
    "\n",
    "    cocktail = {\"name\":name, \"ingredients\":ingred_list, \"instructions\":instr_list}\n",
    "    return cocktail"
   ]
  },
  {
   "cell_type": "code",
   "execution_count": 55,
   "metadata": {},
   "outputs": [],
   "source": [
    "import random # Don't go as hard as possible\n",
    "import time\n",
    "\n",
    "mixer_coctails = []\n",
    "for url in recipes:\n",
    "    page = requests.get(url)\n",
    "    soup = BeautifulSoup(page.text)\n",
    "    cocktail = mixer_to_dict(soup)\n",
    "    mixer_coctails.append(cocktail)\n",
    "    #time.sleep(random.random() * 2)\n",
    "\n"
   ]
  },
  {
   "cell_type": "code",
   "execution_count": 56,
   "metadata": {},
   "outputs": [],
   "source": [
    "with open(\"./data/themixer_drinks.json\", 'w') as outfile:\n",
    "    json.dump(mixer_coctails, outfile)"
   ]
  },
  {
   "cell_type": "code",
   "execution_count": null,
   "metadata": {},
   "outputs": [],
   "source": [
    "# Now let's go pillage Cocktail-society.com, starting with iterating all the index pages and then all the sub-pages on them\n",
    "liquors = [\"brandy\", \"gin\", \"mezcal\", \"rum\", \"tequila\", \"vodka\", \"whiskey\"] \n",
    "# \"other\" and \"shots\" don't conform to the pattern, get them next\n",
    "recipes = set()\n",
    "\n",
    "def get_recipes(url):\n",
    "    page = requests.get(url)\n",
    "    bs = BeautifulSoup(page.text)\n",
    "    links = bs.find_all(\"a\", attrs={\"class\":\"ct-link\"})\n",
    "    for link in links:\n",
    "        if link['href'].startswith(\"https://cocktail-society.com/recipes/\"):\n",
    "            recipes.add(link['href'])\n",
    "    next_page = bs.find(\"a\", attrs={\"class\": \"next page-numbers\"})\n",
    "    if next_page is not None:\n",
    "        # LOL recursion machine go brrrrrrr\n",
    "        get_recipes(next_page['href'])\n",
    "\n",
    "for liquor in liquors:\n",
    "    get_recipes(f\"https://cocktail-society.com/category/recipes/{liquor}-cocktails/\")\n",
    "    \n"
   ]
  },
  {
   "cell_type": "code",
   "execution_count": 64,
   "metadata": {},
   "outputs": [
    {
     "name": "stdout",
     "output_type": "stream",
     "text": [
      "{'https://cocktail-society.com/recipes/when-the-smoke-cleared/', 'https://cocktail-society.com/recipes/gin-cocktails/ramos-gin-fizz/', 'https://cocktail-society.com/recipes/chocolate-martini/', 'https://cocktail-society.com/recipes/long-island-iced-tea/', 'https://cocktail-society.com/recipes/mezcal-dante-cocktail/', 'https://cocktail-society.com/recipes/glasgow-mule/', 'https://cocktail-society.com/recipes/manhattan-vs-old-fashioned-cocktail/', 'https://cocktail-society.com/recipes/christmas-mezcal-cocktail/', 'https://cocktail-society.com/recipes/jungle-bird/', 'https://cocktail-society.com/recipes/jack-frost/', 'https://cocktail-society.com/recipes/what-is-grog/', 'https://cocktail-society.com/recipes/bourbon-eggnog/', 'https://cocktail-society.com/recipes/singapore-sling-cocktail/', 'https://cocktail-society.com/recipes/classic-gin-gimlet-cocktail/', 'https://cocktail-society.com/recipes/succulent-blood-cocktail/', 'https://cocktail-society.com/recipes/sea-breeze/', 'https://cocktail-society.com/recipes/aperol-gin-cocktails/', 'https://cocktail-society.com/recipes/spiced-rum-cocktails/', 'https://cocktail-society.com/recipes/gin-basil-smash/', 'https://cocktail-society.com/recipes/swizzle-drinks/', 'https://cocktail-society.com/recipes/blue-lagoon-cocktail/', 'https://cocktail-society.com/recipes/soho-house-picante-de-la-casa/', 'https://cocktail-society.com/recipes/clover-club/', 'https://cocktail-society.com/recipes/brandy-cocktails/', 'https://cocktail-society.com/recipes/best-tiki-cocktails/', 'https://cocktail-society.com/recipes/russian-spring-punch/', 'https://cocktail-society.com/recipes/watermelon-mojito/', 'https://cocktail-society.com/recipes/stone-sour-cocktail/', 'https://cocktail-society.com/recipes/barracuda/', 'https://cocktail-society.com/recipes/cosmopolitan-cocktail/', 'https://cocktail-society.com/recipes/cape-codder/', 'https://cocktail-society.com/recipes/best-thanksgiving-cocktails/', 'https://cocktail-society.com/recipes/rum-runner-cocktail/', 'https://cocktail-society.com/recipes/andean-dusk-cocktail/', 'https://cocktail-society.com/recipes/mojito/', 'https://cocktail-society.com/recipes/lavender-lemon-drop-cocktail/', 'https://cocktail-society.com/recipes/alabama-slammer/', 'https://cocktail-society.com/recipes/lynchburg-lemonade/', 'https://cocktail-society.com/recipes/vento-cocktail/', 'https://cocktail-society.com/recipes/adios-motherfucker-cocktail/', 'https://cocktail-society.com/recipes/farmers-tan-cocktail/', 'https://cocktail-society.com/recipes/mex-martini-cocktail/', 'https://cocktail-society.com/recipes/espresso-gin-tonic/', 'https://cocktail-society.com/recipes/peruvian-elder-sour/', 'https://cocktail-society.com/recipes/bloody-mary/', 'https://cocktail-society.com/recipes/sour-cocktails/', 'https://cocktail-society.com/recipes/boulevardier-cocktail/', 'https://cocktail-society.com/recipes/white-russian/', 'https://cocktail-society.com/recipes/bahama-mama/', 'https://cocktail-society.com/recipes/ultima-palabra-cocktail/', 'https://cocktail-society.com/recipes/mezcal-mule/', 'https://cocktail-society.com/recipes/dark-n-stormy/', 'https://cocktail-society.com/recipes/zombie/', 'https://cocktail-society.com/recipes/white-christmas-mojito/', 'https://cocktail-society.com/recipes/what-is-eggnog/', 'https://cocktail-society.com/recipes/frozen-mango-margarita/', 'https://cocktail-society.com/recipes/spicy-fifty/', 'https://cocktail-society.com/recipes/smash-cocktails/', 'https://cocktail-society.com/recipes/spicy-grapefruit-margarita/', 'https://cocktail-society.com/recipes/dill-pickle-martini/', 'https://cocktail-society.com/recipes/rum-sour-cocktail/', 'https://cocktail-society.com/recipes/negroni-spritz-cocktail/', 'https://cocktail-society.com/recipes/french-martini/', 'https://cocktail-society.com/recipes/mezcal-margarita/', 'https://cocktail-society.com/recipes/tom-collins-vs-john-collins/', 'https://cocktail-society.com/recipes/horses-neck/', 'https://cocktail-society.com/recipes/french-75/', 'https://cocktail-society.com/recipes/mezcal-paloma/', 'https://cocktail-society.com/recipes/new-york-sour/', 'https://cocktail-society.com/recipes/christmas-old-fashioned/', 'https://cocktail-society.com/recipes/original-tuxedo-cocktail/', 'https://cocktail-society.com/recipes/mezcal-negroni/', 'https://cocktail-society.com/recipes/bramble-cocktail/', 'https://cocktail-society.com/recipes/porto-flip/', 'https://cocktail-society.com/recipes/john-collins-cocktail/', 'https://cocktail-society.com/recipes/rob-roy-cocktail/', 'https://cocktail-society.com/recipes/dry-martini/', 'https://cocktail-society.com/recipes/gin-and-tonic/', 'https://cocktail-society.com/recipes/gin-fizz/', 'https://cocktail-society.com/recipes/best-mule-cocktails/', 'https://cocktail-society.com/recipes/between-the-sheets/', 'https://cocktail-society.com/recipes/different-types-of-martinis/', 'https://cocktail-society.com/recipes/tequila-sour/', 'https://cocktail-society.com/recipes/el-capitan-cocktail/', 'https://cocktail-society.com/recipes/black-halloween-mai-tai/', 'https://cocktail-society.com/recipes/japanese-highball/', 'https://cocktail-society.com/recipes/winter-berry-smash/', 'https://cocktail-society.com/recipes/naked-and-famous-cocktail/', 'https://cocktail-society.com/recipes/hurricane-cocktail/', 'https://cocktail-society.com/recipes/harvey-wallbanger/', 'https://cocktail-society.com/recipes/scotch-old-fashioned/', 'https://cocktail-society.com/recipes/smoky-martini/', 'https://cocktail-society.com/recipes/fire-and-brimstone/', 'https://cocktail-society.com/recipes/paradise/', 'https://cocktail-society.com/recipes/empress-gin-cocktails/', 'https://cocktail-society.com/recipes/bourbon-sour/', 'https://cocktail-society.com/recipes/white-christmas-margarita-punch/', 'https://cocktail-society.com/recipes/white-negroni/', 'https://cocktail-society.com/recipes/screaming-orgasm-cocktail/', 'https://cocktail-society.com/recipes/old-pal-cocktail/', 'https://cocktail-society.com/recipes/sidecar-cocktail/', 'https://cocktail-society.com/recipes/christmas-rum-sour/', 'https://cocktail-society.com/recipes/best-gin-cocktails/', 'https://cocktail-society.com/recipes/frozen-mezcal-paloma/', 'https://cocktail-society.com/recipes/sex-on-the-beach/', 'https://cocktail-society.com/recipes/rum-and-coke/', 'https://cocktail-society.com/recipes/brandy-alexander/', 'https://cocktail-society.com/recipes/gin-rickey/', 'https://cocktail-society.com/recipes/aperol-cosmopolitan/', 'https://cocktail-society.com/recipes/bees-knees/', 'https://cocktail-society.com/recipes/yellow-bird/', 'https://cocktail-society.com/recipes/monte-paloma/', 'https://cocktail-society.com/recipes/loaded-pistol-cocktail/', 'https://cocktail-society.com/recipes/scotch-sour/', 'https://cocktail-society.com/recipes/old-fashioned/', 'https://cocktail-society.com/recipes/best-pisco-cocktails/', 'https://cocktail-society.com/recipes/rusty-nail/', 'https://cocktail-society.com/recipes/manhattan-cocktail/', 'https://cocktail-society.com/recipes/paper-plane/', 'https://cocktail-society.com/recipes/corpse-reviver-no-2/', 'https://cocktail-society.com/recipes/festive-spiced-negroni/', 'https://cocktail-society.com/recipes/dirty-banana/', 'https://cocktail-society.com/recipes/red-snapper-cocktail/', 'https://cocktail-society.com/recipes/pisco-punch/', 'https://cocktail-society.com/recipes/canchanchara/', 'https://cocktail-society.com/recipes/pink-fig-gin-tonic/', 'https://cocktail-society.com/recipes/strawberry-daiquiri/', 'https://cocktail-society.com/recipes/whiskey-cocktails/continental-sour/', 'https://cocktail-society.com/recipes/whiskey-sour/', 'https://cocktail-society.com/recipes/casino-cocktail/', 'https://cocktail-society.com/recipes/port-of-spain-cocktail-recipe/', 'https://cocktail-society.com/recipes/mezcal-fruit-cup-cocktail/', 'https://cocktail-society.com/recipes/skinny-bitch-cocktail/', 'https://cocktail-society.com/recipes/coconut-negroni/', 'https://cocktail-society.com/recipes/painkiller/', 'https://cocktail-society.com/recipes/garden-sour-cocktail/', 'https://cocktail-society.com/recipes/pisco-sour/', 'https://cocktail-society.com/recipes/illegal-margarita-cocktail/', 'https://cocktail-society.com/recipes/old-cuban/', 'https://cocktail-society.com/recipes/aperol-sour/', 'https://cocktail-society.com/recipes/best-christmas-cocktails/', 'https://cocktail-society.com/recipes/call-mexico-cocktail/', 'https://cocktail-society.com/recipes/pina-colada/', 'https://cocktail-society.com/recipes/tequila-cocktails/', 'https://cocktail-society.com/recipes/aperol-gin-tonic/', 'https://cocktail-society.com/recipes/gin-sour/', 'https://cocktail-society.com/recipes/cantarito/', 'https://cocktail-society.com/recipes/cocktails-with-triple-sec/', 'https://cocktail-society.com/recipes/last-word/', 'https://cocktail-society.com/recipes/scotch-collins/', 'https://cocktail-society.com/recipes/best-espresso-martini/', 'https://cocktail-society.com/recipes/tommys-mezcal-margarita/', 'https://cocktail-society.com/recipes/cuba-libre/', 'https://cocktail-society.com/recipes/suffering-bastard/', 'https://cocktail-society.com/recipes/necromancer-cocktail/', 'https://cocktail-society.com/recipes/aperol-negroni/', 'https://cocktail-society.com/recipes/vodka-cocktails/', 'https://cocktail-society.com/recipes/white-lady/', 'https://cocktail-society.com/recipes/tequila-sunrise/', 'https://cocktail-society.com/recipes/cobras-fang-cocktail/', 'https://cocktail-society.com/recipes/creme-brulee-martini/', 'https://cocktail-society.com/recipes/spritz-cocktail-history/', 'https://cocktail-society.com/recipes/gibson-cocktail/', 'https://cocktail-society.com/recipes/best-halloween-cocktails/', 'https://cocktail-society.com/recipes/midori-sour/', 'https://cocktail-society.com/recipes/johnny-vegas-drink/', 'https://cocktail-society.com/recipes/whiskey-smash/', 'https://cocktail-society.com/recipes/manhattan-cocktail-history/', 'https://cocktail-society.com/recipes/dark-fairy-cream/', 'https://cocktail-society.com/recipes/velasco-and-sand-cocktail/', 'https://cocktail-society.com/recipes/naughty-or-nice/', 'https://cocktail-society.com/recipes/brooklyn-cocktail/', 'https://cocktail-society.com/recipes/tommys-margarita/', 'https://cocktail-society.com/recipes/gingerbread-amaretto-sour/', 'https://cocktail-society.com/recipes/planters-punch/', 'https://cocktail-society.com/recipes/mezcal-old-fashioned/', 'https://cocktail-society.com/recipes/irish-coffee/', 'https://cocktail-society.com/recipes/porn-star-martini/', 'https://cocktail-society.com/recipes/mezcal-cocktails/', 'https://cocktail-society.com/recipes/caipirinha/', 'https://cocktail-society.com/recipes/the-grinch/', 'https://cocktail-society.com/recipes/peppermint-bark-rumchata-white-russian/', 'https://cocktail-society.com/recipes/black-manhattan/', 'https://cocktail-society.com/recipes/cranberry-mojito/', 'https://cocktail-society.com/recipes/the-godfather-cocktail/', 'https://cocktail-society.com/recipes/stinger-cocktail/', 'https://cocktail-society.com/recipes/50-50-margarita/', 'https://cocktail-society.com/recipes/gin-gin-mule/', 'https://cocktail-society.com/recipes/ti-punch-cocktail/', 'https://cocktail-society.com/recipes/vesper/', 'https://cocktail-society.com/recipes/lemon-drop-cocktail/', 'https://cocktail-society.com/recipes/queens-park-swizzle/', 'https://cocktail-society.com/recipes/grapefruit-pisco-collins/', 'https://cocktail-society.com/recipes/santa-spritz/', 'https://cocktail-society.com/recipes/blood-and-sand/', 'https://cocktail-society.com/recipes/french-connection/', 'https://cocktail-society.com/recipes/another-sunken-boat-cocktail/', 'https://cocktail-society.com/recipes/black-russian/', 'https://cocktail-society.com/recipes/heisser-kirmes-apfel-cocktail/', 'https://cocktail-society.com/recipes/collins-cocktails/', 'https://cocktail-society.com/recipes/m-and-m-cocktail/', 'https://cocktail-society.com/recipes/penicillin/', 'https://cocktail-society.com/recipes/dying-bastard-cocktail/', 'https://cocktail-society.com/recipes/mary-pickford-cocktail/', 'https://cocktail-society.com/recipes/bijou-cocktail/', 'https://cocktail-society.com/recipes/aperol-vodka-spritz/', 'https://cocktail-society.com/recipes/best-fall-cocktails/', 'https://cocktail-society.com/recipes/pink-gin-sour-cocktail/', 'https://cocktail-society.com/recipes/daiquiri-cocktail-history/', 'https://cocktail-society.com/recipes/angel-face-cocktail/', 'https://cocktail-society.com/recipes/devils-soul-cocktail/', 'https://cocktail-society.com/recipes/maple-old-fashioned/', 'https://cocktail-society.com/recipes/hemingway-special-daiquiri/', 'https://cocktail-society.com/recipes/milk-punch/', 'https://cocktail-society.com/recipes/best-rum-cocktails/', 'https://cocktail-society.com/recipes/oye-mi-canto-cocktail-recipe/', 'https://cocktail-society.com/recipes/coconut-margarita/', 'https://cocktail-society.com/recipes/martinez/', 'https://cocktail-society.com/recipes/mai-tai/', 'https://cocktail-society.com/recipes/mango-margarita-on-the-rocks/', 'https://cocktail-society.com/recipes/mint-julep/', 'https://cocktail-society.com/recipes/vieux-carre/', 'https://cocktail-society.com/recipes/caipiroska/', 'https://cocktail-society.com/recipes/tom-collins/', 'https://cocktail-society.com/recipes/mezcal-sour/', 'https://cocktail-society.com/recipes/negroni-variations-to-try/', 'https://cocktail-society.com/recipes/dead-bastard-cocktail/', 'https://cocktail-society.com/recipes/gin-and-tonic-ratio/', 'https://cocktail-society.com/recipes/spiced-christmas-margarita/', 'https://cocktail-society.com/recipes/classic-aviation-cocktail/', 'https://cocktail-society.com/recipes/monkey-gland/', 'https://cocktail-society.com/recipes/appletini/', 'https://cocktail-society.com/recipes/aussie-mule/', 'https://cocktail-society.com/recipes/queen-mother-cocktail/', 'https://cocktail-society.com/recipes/southside-cocktail/', 'https://cocktail-society.com/recipes/classic-margarita-cocktail/', 'https://cocktail-society.com/recipes/moscow-mule/', 'https://cocktail-society.com/recipes/pumpkin-white-russian/', 'https://cocktail-society.com/recipes/best-whiskey-cocktails/', 'https://cocktail-society.com/recipes/paloma/', 'https://cocktail-society.com/recipes/negroni-cocktail/', 'https://cocktail-society.com/recipes/montreal-cocktail/', 'https://cocktail-society.com/recipes/oaxaca-old-fashioned/', 'https://cocktail-society.com/recipes/sazerac-cocktail/', 'https://cocktail-society.com/recipes/brandy-crusta-cocktail/', 'https://cocktail-society.com/recipes/hanky-panky-cocktail/'}\n"
     ]
    },
    {
     "data": {
      "text/plain": [
       "246"
      ]
     },
     "execution_count": 64,
     "metadata": {},
     "output_type": "execute_result"
    }
   ],
   "source": [
    "print(recipes)\n",
    "len(recipes)"
   ]
  },
  {
   "cell_type": "code",
   "execution_count": 73,
   "metadata": {},
   "outputs": [],
   "source": [
    "url = \"https://cocktail-society.com/recipes/devils-soul-cocktail/\"\n",
    "page= requests.get(url)"
   ]
  },
  {
   "cell_type": "code",
   "execution_count": 90,
   "metadata": {},
   "outputs": [],
   "source": [
    "# There's a script tag that is basically a JSON representation of some of the content of the page, and seems to\n",
    "# include the recipe itself. Going to try pulling the parts I want out of that and dumping that to JSON instead \n",
    "# of HTML parsing the soup. \n",
    "society_cocktails = []\n",
    "for url in recipes:\n",
    "    page = requests.get(url)\n",
    "    bs = BeautifulSoup(page.text)\n",
    "    json_tag = bs.find(\"script\", class_=\"yoast-schema-graph\")\n",
    "    if json_tag is None:\n",
    "        print(f\"No JSON for {url}\")\n",
    "        continue\n",
    "    data = json.loads(json_tag.text)\n",
    "\n",
    "    cocktail = {}\n",
    "    for entry in data[\"@graph\"]:\n",
    "        if entry[\"@type\"] == \"NewsArticle\":\n",
    "            cocktail[\"name\"] = entry[\"headline\"]\n",
    "        if entry[\"@type\"] == \"Recipe\":\n",
    "            cocktail[\"ingredients\"] = entry[\"recipeIngredient\"]\n",
    "            cocktail[\"instructions\"] = []\n",
    "            for instr in entry[\"recipeInstructions\"]:\n",
    "                cocktail[\"instructions\"].append(instr[\"name\"])\n",
    "\n",
    "    society_cocktails.append(cocktail)\n",
    "    time.sleep(random.random() * 3)\n",
    "\n",
    "with open(\"./data/cocktail_society.json\", 'w') as outfile:\n",
    "    json.dump(society_cocktails, outfile, indent=4)"
   ]
  }
 ],
 "metadata": {
  "kernelspec": {
   "display_name": "Python 3",
   "language": "python",
   "name": "python3"
  },
  "language_info": {
   "codemirror_mode": {
    "name": "ipython",
    "version": 3
   },
   "file_extension": ".py",
   "mimetype": "text/x-python",
   "name": "python",
   "nbconvert_exporter": "python",
   "pygments_lexer": "ipython3",
   "version": "3.8.10"
  },
  "orig_nbformat": 4
 },
 "nbformat": 4,
 "nbformat_minor": 2
}
