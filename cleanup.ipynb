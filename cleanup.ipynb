{
 "cells": [
  {
   "cell_type": "code",
   "execution_count": 6,
   "metadata": {},
   "outputs": [
    {
     "name": "stderr",
     "output_type": "stream",
     "text": [
      "/tmp/ipykernel_57023/4250009819.py:9: YAMLLoadWarning: calling yaml.load() without Loader=... is deprecated, as the default Loader is unsafe. Please read https://msg.pyyaml.org/load for full details.\n",
      "  recipe = yaml.load(line)\n",
      "/tmp/ipykernel_57023/4250009819.py:15: YAMLLoadWarning: calling yaml.load() without Loader=... is deprecated, as the default Loader is unsafe. Please read https://msg.pyyaml.org/load for full details.\n",
      "  recipe = yaml.load(line)\n"
     ]
    }
   ],
   "source": [
    "import yaml\n",
    "\n",
    "# I didn't do a great job writing some of the earlier web spiders,\n",
    "# so the YAML file isn't a properly formatted YAML list. \n",
    "recipes = []\n",
    "for idx in range(1, 4):\n",
    "    with open(f\"./spiders/data/guardian_run_{idx}.json\", 'r') as infile:\n",
    "        for line in infile:\n",
    "            recipe = yaml.load(line)\n",
    "            recipe['name'] = recipe['name'].strip()\n",
    "            recipes.append(recipe)\n",
    "\n",
    "with open(\"./spiders/data/guardian.json\", 'r') as infile:\n",
    "    for line in infile:\n",
    "        recipe = yaml.load(line)\n",
    "        recipe['name'] = recipe['name'].strip()\n",
    "        recipes.append(recipe)\n",
    "\n",
    "recipes.sort(key=lambda x: x['name'])\n",
    "with(open(\"./spiders/data/guardian_cleaned.json\", 'w')) as outfile:\n",
    "    yaml.dump(recipes, outfile, indent=4)"
   ]
  },
  {
   "cell_type": "code",
   "execution_count": 7,
   "metadata": {},
   "outputs": [
    {
     "ename": "TypeError",
     "evalue": "unhashable type: 'dict'",
     "output_type": "error",
     "traceback": [
      "\u001b[0;31m---------------------------------------------------------------------------\u001b[0m",
      "\u001b[0;31mTypeError\u001b[0m                                 Traceback (most recent call last)",
      "Cell \u001b[0;32mIn[7], line 1\u001b[0m\n\u001b[0;32m----> 1\u001b[0m recipes \u001b[38;5;241m=\u001b[39m \u001b[38;5;28mlist\u001b[39m(\u001b[38;5;28;43mset\u001b[39;49m\u001b[43m(\u001b[49m\u001b[43mrecipes\u001b[49m\u001b[43m)\u001b[49m)\n",
      "\u001b[0;31mTypeError\u001b[0m: unhashable type: 'dict'"
     ]
    }
   ],
   "source": []
  }
 ],
 "metadata": {
  "kernelspec": {
   "display_name": "Python 3",
   "language": "python",
   "name": "python3"
  },
  "language_info": {
   "codemirror_mode": {
    "name": "ipython",
    "version": 3
   },
   "file_extension": ".py",
   "mimetype": "text/x-python",
   "name": "python",
   "nbconvert_exporter": "python",
   "pygments_lexer": "ipython3",
   "version": "3.8.10"
  }
 },
 "nbformat": 4,
 "nbformat_minor": 2
}
