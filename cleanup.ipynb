{
 "cells": [
  {
   "cell_type": "code",
   "execution_count": 5,
   "metadata": {},
   "outputs": [
    {
     "name": "stderr",
     "output_type": "stream",
     "text": [
      "/tmp/ipykernel_57023/3657100445.py:9: YAMLLoadWarning: calling yaml.load() without Loader=... is deprecated, as the default Loader is unsafe. Please read https://msg.pyyaml.org/load for full details.\n",
      "  recipe = yaml.load(line)\n",
      "/tmp/ipykernel_57023/3657100445.py:15: YAMLLoadWarning: calling yaml.load() without Loader=... is deprecated, as the default Loader is unsafe. Please read https://msg.pyyaml.org/load for full details.\n",
      "  recipe = yaml.load(line)\n"
     ]
    },
    {
     "ename": "TypeError",
     "evalue": "'<' not supported between instances of 'dict' and 'dict'",
     "output_type": "error",
     "traceback": [
      "\u001b[0;31m---------------------------------------------------------------------------\u001b[0m",
      "\u001b[0;31mTypeError\u001b[0m                                 Traceback (most recent call last)",
      "Cell \u001b[0;32mIn[5], line 19\u001b[0m\n\u001b[1;32m     16\u001b[0m         recipe[\u001b[38;5;124m'\u001b[39m\u001b[38;5;124mname\u001b[39m\u001b[38;5;124m'\u001b[39m] \u001b[38;5;241m=\u001b[39m recipe[\u001b[38;5;124m'\u001b[39m\u001b[38;5;124mname\u001b[39m\u001b[38;5;124m'\u001b[39m]\u001b[38;5;241m.\u001b[39mstrip()\n\u001b[1;32m     17\u001b[0m         recipes\u001b[38;5;241m.\u001b[39mappend(recipe)\n\u001b[0;32m---> 19\u001b[0m \u001b[43mrecipes\u001b[49m\u001b[38;5;241;43m.\u001b[39;49m\u001b[43msort\u001b[49m\u001b[43m(\u001b[49m\u001b[43m)\u001b[49m\n\u001b[1;32m     20\u001b[0m \u001b[38;5;28;01mwith\u001b[39;00m(\u001b[38;5;28mopen\u001b[39m(\u001b[38;5;124m\"\u001b[39m\u001b[38;5;124m./spiders/data/guardian_cleaned.json\u001b[39m\u001b[38;5;124m\"\u001b[39m, \u001b[38;5;124m'\u001b[39m\u001b[38;5;124mw\u001b[39m\u001b[38;5;124m'\u001b[39m)) \u001b[38;5;28;01mas\u001b[39;00m outfile:\n\u001b[1;32m     21\u001b[0m     yaml\u001b[38;5;241m.\u001b[39mdump(recipes, outfile)\n",
      "\u001b[0;31mTypeError\u001b[0m: '<' not supported between instances of 'dict' and 'dict'"
     ]
    }
   ],
   "source": [
    "import yaml\n",
    "\n",
    "# I didn't do a great job writing some of the earlier web spiders,\n",
    "# so the YAML file isn't a properly formatted YAML list. \n",
    "recipes = []\n",
    "for idx in range(1, 4):\n",
    "    with open(f\"./spiders/data/guardian_run_{idx}.json\", 'r') as infile:\n",
    "        for line in infile:\n",
    "            recipe = yaml.load(line)\n",
    "            recipe['name'] = recipe['name'].strip()\n",
    "            recipes.append(recipe)\n",
    "\n",
    "with open(\"./spiders/data/guardian.json\", 'r') as infile:\n",
    "    for line in infile:\n",
    "        recipe = yaml.load(line)\n",
    "        recipe['name'] = recipe['name'].strip()\n",
    "        recipes.append(recipe)\n",
    "\n",
    "recipes.sort(key=lambda x: x['name'])\n",
    "with(open(\"./spiders/data/guardian_cleaned.json\", 'w')) as outfile:\n",
    "    yaml.dump(recipes, outfile, indent=4)"
   ]
  }
 ],
 "metadata": {
  "kernelspec": {
   "display_name": "Python 3",
   "language": "python",
   "name": "python3"
  },
  "language_info": {
   "codemirror_mode": {
    "name": "ipython",
    "version": 3
   },
   "file_extension": ".py",
   "mimetype": "text/x-python",
   "name": "python",
   "nbconvert_exporter": "python",
   "pygments_lexer": "ipython3",
   "version": "3.8.10"
  }
 },
 "nbformat": 4,
 "nbformat_minor": 2
}
